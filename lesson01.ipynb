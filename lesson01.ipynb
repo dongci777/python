{
 "cells": [
  {
   "cell_type": "markdown",
   "metadata": {},
   "source": [
    "# python learning  fundation"
   ]
  },
  {
   "cell_type": "markdown",
   "metadata": {},
   "source": [
    "## 打印 hello world"
   ]
  },
  {
   "cell_type": "code",
   "execution_count": 6,
   "metadata": {
    "scrolled": true
   },
   "outputs": [
    {
     "name": "stdout",
     "output_type": "stream",
     "text": [
      "hello,world\n"
     ]
    }
   ],
   "source": [
    "print(\"hello,world\")"
   ]
  },
  {
   "cell_type": "code",
   "execution_count": 7,
   "metadata": {
    "scrolled": true
   },
   "outputs": [
    {
     "name": "stdout",
     "output_type": "stream",
     "text": [
      "hello,world\n"
     ]
    }
   ],
   "source": [
    "print('hello,world')"
   ]
  },
  {
   "cell_type": "code",
   "execution_count": 10,
   "metadata": {
    "scrolled": true
   },
   "outputs": [
    {
     "name": "stdout",
     "output_type": "stream",
     "text": [
      "hello,'world\n"
     ]
    }
   ],
   "source": [
    "print('hello,\\'world')"
   ]
  },
  {
   "cell_type": "markdown",
   "metadata": {},
   "source": [
    "## 导入模块"
   ]
  },
  {
   "cell_type": "code",
   "execution_count": 4,
   "metadata": {},
   "outputs": [
    {
     "name": "stdout",
     "output_type": "stream",
     "text": [
      "The Zen of Python, by Tim Peters\n",
      "\n",
      "Beautiful is better than ugly.\n",
      "Explicit is better than implicit.\n",
      "Simple is better than complex.\n",
      "Complex is better than complicated.\n",
      "Flat is better than nested.\n",
      "Sparse is better than dense.\n",
      "Readability counts.\n",
      "Special cases aren't special enough to break the rules.\n",
      "Although practicality beats purity.\n",
      "Errors should never pass silently.\n",
      "Unless explicitly silenced.\n",
      "In the face of ambiguity, refuse the temptation to guess.\n",
      "There should be one-- and preferably only one --obvious way to do it.\n",
      "Although that way may not be obvious at first unless you're Dutch.\n",
      "Now is better than never.\n",
      "Although never is often better than *right* now.\n",
      "If the implementation is hard to explain, it's a bad idea.\n",
      "If the implementation is easy to explain, it may be a good idea.\n",
      "Namespaces are one honking great idea -- let's do more of those!\n"
     ]
    }
   ],
   "source": [
    "import this"
   ]
  },
  {
   "cell_type": "raw",
   "metadata": {},
   "source": [
    "《Python之禅》(The Zen of Python)，蒂姆·彼得斯(Tim Peters)著\n",
    "\n",
    "美丽总比丑陋好。\n",
    "\n",
    "显式的比隐式的好。\n",
    "\n",
    "简单总比复杂好。\n",
    "\n",
    "复杂总比复杂好。\n",
    "\n",
    "平铺总比嵌套好。\n",
    "\n",
    "稀疏总比稠密好。\n",
    "\n",
    "可读性。\n",
    "\n",
    "特殊情况并不特别到足以违反规则。\n",
    "\n",
    "尽管实用性胜过纯洁性。\n",
    "\n",
    "错误不应该悄无声息地过去。\n",
    "\n",
    "除非显式地沉默。\n",
    "\n",
    "面对模棱两可的情况，拒绝猜测的诱惑。\n",
    "\n",
    "应该有一种——最好是只有一种——显而易见的方法。\n",
    "\n",
    "尽管这种方式一开始可能并不明显，除非你是荷兰人。\n",
    "\n",
    "现在总比没有好。\n",
    "\n",
    "尽管“从不”常常比“现在”更好。\n",
    "\n",
    "如果实现很难解释，那就是个坏主意。\n",
    "\n",
    "如果实现很容易解释，这可能是一个好主意。\n",
    "\n",
    "名称空间是一个伟大的想法——让我们做更多这样的事情!"
   ]
  },
  {
   "cell_type": "markdown",
   "metadata": {},
   "source": [
    "## 计算器运算"
   ]
  },
  {
   "cell_type": "code",
   "execution_count": 11,
   "metadata": {},
   "outputs": [
    {
     "data": {
      "text/plain": [
       "105"
      ]
     },
     "execution_count": 11,
     "metadata": {},
     "output_type": "execute_result"
    }
   ],
   "source": [
    "5+100"
   ]
  },
  {
   "cell_type": "code",
   "execution_count": 12,
   "metadata": {},
   "outputs": [
    {
     "data": {
      "text/plain": [
       "95"
      ]
     },
     "execution_count": 12,
     "metadata": {},
     "output_type": "execute_result"
    }
   ],
   "source": [
    "100-5"
   ]
  },
  {
   "cell_type": "code",
   "execution_count": 13,
   "metadata": {},
   "outputs": [
    {
     "data": {
      "text/plain": [
       "500"
      ]
     },
     "execution_count": 13,
     "metadata": {},
     "output_type": "execute_result"
    }
   ],
   "source": [
    "100*5"
   ]
  },
  {
   "cell_type": "code",
   "execution_count": 14,
   "metadata": {},
   "outputs": [
    {
     "data": {
      "text/plain": [
       "20.0"
      ]
     },
     "execution_count": 14,
     "metadata": {},
     "output_type": "execute_result"
    }
   ],
   "source": [
    "100/5"
   ]
  },
  {
   "cell_type": "code",
   "execution_count": 15,
   "metadata": {},
   "outputs": [
    {
     "data": {
      "text/plain": [
       "20"
      ]
     },
     "execution_count": 15,
     "metadata": {},
     "output_type": "execute_result"
    }
   ],
   "source": [
    "100//5"
   ]
  },
  {
   "cell_type": "code",
   "execution_count": 17,
   "metadata": {},
   "outputs": [
    {
     "data": {
      "text/plain": [
       "3"
      ]
     },
     "execution_count": 17,
     "metadata": {},
     "output_type": "execute_result"
    }
   ],
   "source": [
    "10 % 7"
   ]
  },
  {
   "cell_type": "code",
   "execution_count": 18,
   "metadata": {
    "scrolled": true
   },
   "outputs": [
    {
     "data": {
      "text/plain": [
       "1000"
      ]
     },
     "execution_count": 18,
     "metadata": {},
     "output_type": "execute_result"
    }
   ],
   "source": [
    "10**3"
   ]
  },
  {
   "cell_type": "code",
   "execution_count": 19,
   "metadata": {},
   "outputs": [
    {
     "data": {
      "text/plain": [
       "2.154434690031884"
      ]
     },
     "execution_count": 19,
     "metadata": {},
     "output_type": "execute_result"
    }
   ],
   "source": [
    "10**(1/3)"
   ]
  },
  {
   "cell_type": "code",
   "execution_count": 21,
   "metadata": {
    "ExecuteTime": {
     "end_time": "2020-01-11T19:07:02.280585Z",
     "start_time": "2020-01-11T19:07:02.272554Z"
    }
   },
   "outputs": [
    {
     "data": {
      "text/plain": [
       "3.333"
      ]
     },
     "execution_count": 21,
     "metadata": {},
     "output_type": "execute_result"
    }
   ],
   "source": [
    "# 保存三位小数点\n",
    "round(10/3, 3)"
   ]
  },
  {
   "cell_type": "markdown",
   "metadata": {},
   "source": [
    "### Math函数"
   ]
  },
  {
   "cell_type": "code",
   "execution_count": 10,
   "metadata": {
    "ExecuteTime": {
     "end_time": "2020-01-10T03:15:29.675764Z",
     "start_time": "2020-01-10T03:15:29.672773Z"
    }
   },
   "outputs": [],
   "source": [
    "import math"
   ]
  },
  {
   "cell_type": "code",
   "execution_count": 9,
   "metadata": {
    "ExecuteTime": {
     "end_time": "2020-01-10T03:14:58.425668Z",
     "start_time": "2020-01-10T03:14:58.420681Z"
    }
   },
   "outputs": [
    {
     "data": {
      "text/plain": [
       "3.141592653589793"
      ]
     },
     "execution_count": 9,
     "metadata": {},
     "output_type": "execute_result"
    }
   ],
   "source": [
    "math.pi"
   ]
  },
  {
   "cell_type": "code",
   "execution_count": 23,
   "metadata": {
    "scrolled": true
   },
   "outputs": [
    {
     "data": {
      "text/plain": [
       "1.0"
      ]
     },
     "execution_count": 23,
     "metadata": {},
     "output_type": "execute_result"
    }
   ],
   "source": [
    "math.sin(math.pi/2)"
   ]
  },
  {
   "cell_type": "code",
   "execution_count": 7,
   "metadata": {
    "ExecuteTime": {
     "end_time": "2020-01-10T03:14:53.843366Z",
     "start_time": "2020-01-10T03:14:53.834367Z"
    }
   },
   "outputs": [
    {
     "data": {
      "text/plain": [
       "10"
      ]
     },
     "execution_count": 7,
     "metadata": {},
     "output_type": "execute_result"
    }
   ],
   "source": [
    "math.floor(10.1231)"
   ]
  },
  {
   "cell_type": "code",
   "execution_count": 8,
   "metadata": {
    "ExecuteTime": {
     "end_time": "2020-01-10T03:14:55.839488Z",
     "start_time": "2020-01-10T03:14:55.834508Z"
    }
   },
   "outputs": [
    {
     "data": {
      "text/plain": [
       "10"
      ]
     },
     "execution_count": 8,
     "metadata": {},
     "output_type": "execute_result"
    }
   ],
   "source": [
    "math.ceil(9.87)"
   ]
  },
  {
   "cell_type": "code",
   "execution_count": 11,
   "metadata": {
    "ExecuteTime": {
     "end_time": "2020-01-10T03:16:23.785402Z",
     "start_time": "2020-01-10T03:16:23.779377Z"
    }
   },
   "outputs": [
    {
     "name": "stdout",
     "output_type": "stream",
     "text": [
      "苹果的价格: 10\n",
      "香蕉价格: 16\n",
      "总价: 26\n"
     ]
    }
   ],
   "source": [
    "# 计算苹果价格\n",
    "print(\"苹果的价格:\", 5*2)\n",
    "\n",
    "# 计算香蕉价格\n",
    "print(\"香蕉价格:\", 8*2)\n",
    "\n",
    "# 总花费价格\n",
    "print(\"总价:\", (5*2+8*2))"
   ]
  },
  {
   "cell_type": "code",
   "execution_count": 2,
   "metadata": {
    "ExecuteTime": {
     "end_time": "2020-01-11T18:49:24.478660Z",
     "start_time": "2020-01-11T18:49:24.473626Z"
    }
   },
   "outputs": [
    {
     "name": "stdout",
     "output_type": "stream",
     "text": [
      "苹果价格： 5\n",
      "香蕉价格： 16\n",
      "总价： 26\n",
      "10 16 26\n"
     ]
    }
   ],
   "source": [
    "# 第二种做法，进行变量存储\n",
    "apple_price = 5\n",
    "apple_count = 2\n",
    "apple_cost = apple_price*apple_count\n",
    "print(\"苹果价格：\", apple_price)\n",
    "\n",
    "balana_price = 8\n",
    "balana_count = 2\n",
    "balana_cost = balana_price*balana_count\n",
    "print(\"香蕉价格：\", balana_cost)\n",
    "\n",
    "total_cost = balana_cost+apple_cost\n",
    "print(\"总价：\", total_cost)\n",
    "\n",
    "print(apple_cost, balana_cost, total_cost)"
   ]
  },
  {
   "cell_type": "markdown",
   "metadata": {},
   "source": [
    "### format(增强的格式化字符串输出)"
   ]
  },
  {
   "cell_type": "code",
   "execution_count": 3,
   "metadata": {
    "ExecuteTime": {
     "end_time": "2020-01-11T18:49:26.736295Z",
     "start_time": "2020-01-11T18:49:26.728315Z"
    }
   },
   "outputs": [
    {
     "data": {
      "text/plain": [
       "'苹果的价格为：10；香蕉的价格为：16；总的价格为：26'"
      ]
     },
     "execution_count": 3,
     "metadata": {},
     "output_type": "execute_result"
    }
   ],
   "source": [
    "\"苹果的价格为：{}；香蕉的价格为：{}；总的价格为：{}\".format(apple_cost, balana_cost, total_cost)"
   ]
  },
  {
   "cell_type": "markdown",
   "metadata": {
    "ExecuteTime": {
     "end_time": "2020-01-11T18:49:46.041544Z",
     "start_time": "2020-01-11T18:49:46.033615Z"
    }
   },
   "source": [
    "## 语法糖"
   ]
  },
  {
   "cell_type": "markdown",
   "metadata": {},
   "source": [
    "### 交换a,b的值"
   ]
  },
  {
   "cell_type": "code",
   "execution_count": 5,
   "metadata": {
    "ExecuteTime": {
     "end_time": "2020-01-11T18:52:36.407993Z",
     "start_time": "2020-01-11T18:52:36.403963Z"
    }
   },
   "outputs": [],
   "source": [
    "a = 10\n",
    "b = 20\n",
    "a, b = b, a"
   ]
  },
  {
   "cell_type": "code",
   "execution_count": 11,
   "metadata": {
    "ExecuteTime": {
     "end_time": "2020-01-11T18:54:24.439192Z",
     "start_time": "2020-01-11T18:54:24.435075Z"
    }
   },
   "outputs": [
    {
     "name": "stdout",
     "output_type": "stream",
     "text": [
      "a is 20,b is 10\n"
     ]
    }
   ],
   "source": [
    "print(\"a is {},b is {}\".format(a, b))"
   ]
  },
  {
   "cell_type": "markdown",
   "metadata": {},
   "source": [
    "## 命名规范\n",
    "\n",
    "1、标识的第一个字符必须是字母表中的字母（大写和小写）或者一个下划线\n",
    "\n",
    "2、标识符名称的其他部分可以是是由字母（大写和小写）、下划线（_）或数字(0-9)组成\n",
    "\n",
    "3、python中的大小写是敏感的"
   ]
  },
  {
   "cell_type": "code",
   "execution_count": 12,
   "metadata": {
    "ExecuteTime": {
     "end_time": "2020-01-11T19:02:59.962097Z",
     "start_time": "2020-01-11T19:02:59.958065Z"
    }
   },
   "outputs": [],
   "source": [
    "n = 20\n",
    "N = 10"
   ]
  },
  {
   "cell_type": "code",
   "execution_count": 14,
   "metadata": {
    "ExecuteTime": {
     "end_time": "2020-01-11T19:03:13.401860Z",
     "start_time": "2020-01-11T19:03:13.398903Z"
    }
   },
   "outputs": [],
   "source": [
    "name_23 = 10"
   ]
  },
  {
   "cell_type": "code",
   "execution_count": 15,
   "metadata": {
    "ExecuteTime": {
     "end_time": "2020-01-11T19:03:17.868804Z",
     "start_time": "2020-01-11T19:03:17.866191Z"
    }
   },
   "outputs": [],
   "source": [
    "_123 = 10"
   ]
  },
  {
   "cell_type": "code",
   "execution_count": 17,
   "metadata": {
    "ExecuteTime": {
     "end_time": "2020-01-11T19:03:33.650250Z",
     "start_time": "2020-01-11T19:03:33.646640Z"
    }
   },
   "outputs": [
    {
     "ename": "SyntaxError",
     "evalue": "invalid token (<ipython-input-17-5b4ff4b08735>, line 1)",
     "output_type": "error",
     "traceback": [
      "\u001b[1;36m  File \u001b[1;32m\"<ipython-input-17-5b4ff4b08735>\"\u001b[1;36m, line \u001b[1;32m1\u001b[0m\n\u001b[1;33m    12_hello=10\u001b[0m\n\u001b[1;37m      ^\u001b[0m\n\u001b[1;31mSyntaxError\u001b[0m\u001b[1;31m:\u001b[0m invalid token\n"
     ]
    }
   ],
   "source": [
    "12_hello = 10"
   ]
  },
  {
   "cell_type": "code",
   "execution_count": 18,
   "metadata": {
    "ExecuteTime": {
     "end_time": "2020-01-11T19:03:52.648666Z",
     "start_time": "2020-01-11T19:03:52.643661Z"
    }
   },
   "outputs": [
    {
     "ename": "SyntaxError",
     "evalue": "invalid syntax (<ipython-input-18-75d6ee64c211>, line 1)",
     "output_type": "error",
     "traceback": [
      "\u001b[1;36m  File \u001b[1;32m\"<ipython-input-18-75d6ee64c211>\"\u001b[1;36m, line \u001b[1;32m1\u001b[0m\n\u001b[1;33m    my name =100\u001b[0m\n\u001b[1;37m          ^\u001b[0m\n\u001b[1;31mSyntaxError\u001b[0m\u001b[1;31m:\u001b[0m invalid syntax\n"
     ]
    }
   ],
   "source": [
    "my name = 100"
   ]
  },
  {
   "cell_type": "code",
   "execution_count": 23,
   "metadata": {
    "ExecuteTime": {
     "end_time": "2020-01-11T19:17:41.876095Z",
     "start_time": "2020-01-11T19:17:41.872095Z"
    }
   },
   "outputs": [
    {
     "name": "stdout",
     "output_type": "stream",
     "text": [
      "hello python\n"
     ]
    }
   ],
   "source": [
    "message = \"hello python\"\n",
    "print(message)"
   ]
  },
  {
   "cell_type": "markdown",
   "metadata": {},
   "source": [
    "## 代码规范\n",
    "- 1、不要使用单个字符\n",
    "- 2、变量名能清晰的表达变量的意思\n",
    "- 3、合理使用字母间的下划线（_）"
   ]
  },
  {
   "cell_type": "markdown",
   "metadata": {},
   "source": [
    "## markdown 表格写法\n",
    "| 序号 | 姓名 | 年龄 |\n",
    "| --- | :---: | :--- |\n",
    "| 1 | 孙悟空 | 500 |\n",
    "| 2 | 猪八戒 | 400 |\n",
    "| 3 | Ainstein | 70 |"
   ]
  },
  {
   "cell_type": "markdown",
   "metadata": {},
   "source": [
    "## 数据类型"
   ]
  },
  {
   "cell_type": "markdown",
   "metadata": {},
   "source": [
    "### 字符串（String）"
   ]
  },
  {
   "cell_type": "markdown",
   "metadata": {},
   "source": [
    "#### 修改字符串的首字母大小写（title函数）"
   ]
  },
  {
   "cell_type": "code",
   "execution_count": 29,
   "metadata": {
    "ExecuteTime": {
     "end_time": "2020-01-11T19:25:25.784804Z",
     "start_time": "2020-01-11T19:25:25.781772Z"
    }
   },
   "outputs": [
    {
     "name": "stdout",
     "output_type": "stream",
     "text": [
      "Zxb\n"
     ]
    }
   ],
   "source": [
    "# 单引号和双引号都可以\n",
    "name = \"zxb\"\n",
    "name = 'zxb'\n",
    "# title()函数将首字母转换成大写\n",
    "print(name.title())"
   ]
  },
  {
   "cell_type": "markdown",
   "metadata": {},
   "source": [
    "#### 转换字符串所有字符成字符大（小）写（upper、lower函数）"
   ]
  },
  {
   "cell_type": "code",
   "execution_count": 30,
   "metadata": {
    "ExecuteTime": {
     "end_time": "2020-01-11T19:29:06.786118Z",
     "start_time": "2020-01-11T19:29:06.781160Z"
    }
   },
   "outputs": [
    {
     "name": "stdout",
     "output_type": "stream",
     "text": [
      "ADA LOVELACE\n",
      "ada lovelace\n"
     ]
    }
   ],
   "source": [
    "name = \"Ada Lovelace\"\n",
    "print(name.upper())\n",
    "print(name.lower())"
   ]
  },
  {
   "cell_type": "markdown",
   "metadata": {},
   "source": [
    "#### 拼接字符串"
   ]
  },
  {
   "cell_type": "code",
   "execution_count": 32,
   "metadata": {
    "ExecuteTime": {
     "end_time": "2020-01-11T19:32:47.848074Z",
     "start_time": "2020-01-11T19:32:47.844079Z"
    }
   },
   "outputs": [
    {
     "name": "stdout",
     "output_type": "stream",
     "text": [
      "hello 翟晓斌\n"
     ]
    }
   ],
   "source": [
    "first_name = \"翟\"\n",
    "last_name = \"晓斌\"\n",
    "print(\"hello\", first_name+last_name)"
   ]
  },
  {
   "cell_type": "markdown",
   "metadata": {},
   "source": [
    "#### 使用制表符或换行符添加空白"
   ]
  },
  {
   "cell_type": "code",
   "execution_count": 33,
   "metadata": {
    "ExecuteTime": {
     "end_time": "2020-01-11T19:34:11.573032Z",
     "start_time": "2020-01-11T19:34:11.568994Z"
    }
   },
   "outputs": [
    {
     "name": "stdout",
     "output_type": "stream",
     "text": [
      "\tPyhton\n"
     ]
    }
   ],
   "source": [
    "# 空格\n",
    "print(\"\\tPyhton\")"
   ]
  },
  {
   "cell_type": "code",
   "execution_count": 36,
   "metadata": {
    "ExecuteTime": {
     "end_time": "2020-01-11T19:35:22.486109Z",
     "start_time": "2020-01-11T19:35:22.483052Z"
    }
   },
   "outputs": [
    {
     "name": "stdout",
     "output_type": "stream",
     "text": [
      "hello,\n",
      "Python\n"
     ]
    }
   ],
   "source": [
    "# 换行\n",
    "print(\"hello,\\nPython\")"
   ]
  },
  {
   "cell_type": "markdown",
   "metadata": {},
   "source": [
    "#### 删除空白"
   ]
  },
  {
   "cell_type": "code",
   "execution_count": 43,
   "metadata": {
    "ExecuteTime": {
     "end_time": "2020-01-11T19:42:51.431932Z",
     "start_time": "2020-01-11T19:42:51.427617Z"
    }
   },
   "outputs": [
    {
     "name": "stdout",
     "output_type": "stream",
     "text": [
      "pyhton     \n",
      "    pyhton\n",
      "pyhton\n"
     ]
    }
   ],
   "source": [
    "# 删除左边的空白字符\n",
    "name = \"    pyhton     \"\n",
    "name_1 = name.lstrip()\n",
    "# 删除右边的空白字符\n",
    "print(name_1)\n",
    "name_2 = name.rstrip()\n",
    "print(name_2)\n",
    "# 删除两边的空白字符\n",
    "name_3 = name.strip()\n",
    "print(name_3)"
   ]
  },
  {
   "cell_type": "code",
   "execution_count": 44,
   "metadata": {
    "ExecuteTime": {
     "end_time": "2020-01-11T19:48:44.417773Z",
     "start_time": "2020-01-11T19:48:44.412787Z"
    }
   },
   "outputs": [
    {
     "name": "stdout",
     "output_type": "stream",
     "text": [
      "Hello  Eric,would you like to learn some Python today\n"
     ]
    }
   ],
   "source": [
    "name = \"eric\"\n",
    "print(\"Hello \", name.title()+\",would you like to learn some Python today\")"
   ]
  },
  {
   "cell_type": "code",
   "execution_count": 46,
   "metadata": {
    "ExecuteTime": {
     "end_time": "2020-01-11T19:50:26.850115Z",
     "start_time": "2020-01-11T19:50:26.846085Z"
    }
   },
   "outputs": [
    {
     "name": "stdout",
     "output_type": "stream",
     "text": [
      "Albert Einstein once said,\"A person who ......\"\n"
     ]
    }
   ],
   "source": [
    "name = \"Albert Einstein\"\n",
    "print(name+' once said,\"A person who ......\"')"
   ]
  },
  {
   "cell_type": "markdown",
   "metadata": {},
   "source": [
    "#### 乘法操作"
   ]
  },
  {
   "cell_type": "code",
   "execution_count": 33,
   "metadata": {
    "ExecuteTime": {
     "end_time": "2020-01-12T02:01:30.458827Z",
     "start_time": "2020-01-12T02:01:30.452505Z"
    }
   },
   "outputs": [
    {
     "data": {
      "text/plain": [
       "'hello hello hello '"
      ]
     },
     "execution_count": 33,
     "metadata": {},
     "output_type": "execute_result"
    }
   ],
   "source": [
    "# 输出多次\n",
    "code = \"hello \"\n",
    "code * 3"
   ]
  },
  {
   "cell_type": "code",
   "execution_count": 36,
   "metadata": {
    "ExecuteTime": {
     "end_time": "2020-01-12T02:05:17.838563Z",
     "start_time": "2020-01-12T02:05:17.833576Z"
    }
   },
   "outputs": [
    {
     "data": {
      "text/plain": [
       "6"
      ]
     },
     "execution_count": 36,
     "metadata": {},
     "output_type": "execute_result"
    }
   ],
   "source": [
    "# 返回字符串长度,字符串是不可变类型的变量\n",
    "len(code)"
   ]
  },
  {
   "cell_type": "markdown",
   "metadata": {
    "ExecuteTime": {
     "end_time": "2020-01-12T02:05:35.761935Z",
     "start_time": "2020-01-12T02:05:35.757960Z"
    }
   },
   "source": [
    "#### 截取操作"
   ]
  },
  {
   "cell_type": "code",
   "execution_count": 47,
   "metadata": {
    "ExecuteTime": {
     "end_time": "2020-01-12T02:22:30.276344Z",
     "start_time": "2020-01-12T02:22:30.270361Z"
    }
   },
   "outputs": [
    {
     "data": {
      "text/plain": [
       "'nohtyP ix eux aij ad gniy nauh'"
      ]
     },
     "execution_count": 47,
     "metadata": {},
     "output_type": "execute_result"
    }
   ],
   "source": [
    "# 取前10个字符\n",
    "str = \"huan ying da jia xue xi Python\"\n",
    "str[0:10]\n",
    "\n",
    "# 取前20个字符，隔2个取一个\n",
    "str[0:20:2]\n",
    "\n",
    "# 取后10个字符\n",
    "str[-10:]\n",
    "\n",
    "# 翻转字符\n",
    "str[::-1]"
   ]
  },
  {
   "cell_type": "markdown",
   "metadata": {},
   "source": [
    "#### 查看函数用法"
   ]
  },
  {
   "cell_type": "code",
   "execution_count": 51,
   "metadata": {
    "ExecuteTime": {
     "end_time": "2020-01-12T02:26:18.387551Z",
     "start_time": "2020-01-12T02:26:18.382564Z"
    }
   },
   "outputs": [],
   "source": [
    "# 查看函数用法\n",
    "str.函数名?"
   ]
  },
  {
   "cell_type": "code",
   "execution_count": 53,
   "metadata": {
    "ExecuteTime": {
     "end_time": "2020-01-12T02:28:54.440435Z",
     "start_time": "2020-01-12T02:28:54.435448Z"
    }
   },
   "outputs": [
    {
     "data": {
      "text/plain": [
       "'Hello world!'"
      ]
     },
     "execution_count": 53,
     "metadata": {},
     "output_type": "execute_result"
    }
   ],
   "source": [
    "# 第一个字符转换成大写，其余小写\n",
    "str = \"HELLO WORLD!\"\n",
    "str.capitalize()"
   ]
  },
  {
   "cell_type": "code",
   "execution_count": 57,
   "metadata": {
    "ExecuteTime": {
     "end_time": "2020-01-12T02:30:34.430241Z",
     "start_time": "2020-01-12T02:30:34.425254Z"
    }
   },
   "outputs": [
    {
     "data": {
      "text/plain": [
       "'&&&&HELLO WORLD!&&&&'"
      ]
     },
     "execution_count": 57,
     "metadata": {},
     "output_type": "execute_result"
    }
   ],
   "source": [
    "# center函数,填补字符串\n",
    "str.center(20, '&')"
   ]
  },
  {
   "cell_type": "code",
   "execution_count": 59,
   "metadata": {
    "ExecuteTime": {
     "end_time": "2020-01-12T02:31:09.304466Z",
     "start_time": "2020-01-12T02:31:09.300493Z"
    }
   },
   "outputs": [
    {
     "data": {
      "text/plain": [
       "3"
      ]
     },
     "execution_count": 59,
     "metadata": {},
     "output_type": "execute_result"
    }
   ],
   "source": [
    "# 计数\n",
    "str.count('L')"
   ]
  },
  {
   "cell_type": "code",
   "execution_count": 62,
   "metadata": {
    "ExecuteTime": {
     "end_time": "2020-01-12T02:32:09.884870Z",
     "start_time": "2020-01-12T02:32:09.879845Z"
    }
   },
   "outputs": [
    {
     "data": {
      "text/plain": [
       "True"
      ]
     },
     "execution_count": 62,
     "metadata": {},
     "output_type": "execute_result"
    }
   ],
   "source": [
    "# 是否以某个字符结尾\n",
    "str.endswith(\"LD!\")"
   ]
  },
  {
   "cell_type": "code",
   "execution_count": 69,
   "metadata": {
    "ExecuteTime": {
     "end_time": "2020-01-12T02:35:58.463003Z",
     "start_time": "2020-01-12T02:35:58.459018Z"
    }
   },
   "outputs": [
    {
     "name": "stdout",
     "output_type": "stream",
     "text": [
      "2 6\n"
     ]
    }
   ],
   "source": [
    "# 寻找字符出现的第一次的下标\n",
    "find1 = str.find(\"L\")\n",
    "find2 = str.find(\"W\")\n",
    "print(\"{} {}\".format(find1, find2))"
   ]
  },
  {
   "cell_type": "code",
   "execution_count": 72,
   "metadata": {
    "ExecuteTime": {
     "end_time": "2020-01-12T02:37:33.524408Z",
     "start_time": "2020-01-12T02:37:33.519446Z"
    }
   },
   "outputs": [
    {
     "data": {
      "text/plain": [
       "-1"
      ]
     },
     "execution_count": 72,
     "metadata": {},
     "output_type": "execute_result"
    }
   ],
   "source": [
    "# 不存在时返回-1\n",
    "str = \"hello world\"\n",
    "str.find(\"a\")"
   ]
  },
  {
   "cell_type": "code",
   "execution_count": 75,
   "metadata": {
    "ExecuteTime": {
     "end_time": "2020-01-12T02:42:43.509637Z",
     "start_time": "2020-01-12T02:42:43.501656Z"
    }
   },
   "outputs": [
    {
     "ename": "ValueError",
     "evalue": "substring not found",
     "output_type": "error",
     "traceback": [
      "\u001b[1;31m---------------------------------------------------------------------------\u001b[0m",
      "\u001b[1;31mValueError\u001b[0m                                Traceback (most recent call last)",
      "\u001b[1;32m<ipython-input-75-7187ca0dfabc>\u001b[0m in \u001b[0;36m<module>\u001b[1;34m\u001b[0m\n\u001b[0;32m      1\u001b[0m \u001b[1;31m# index和find的区别是在找不到的时候会报错\u001b[0m\u001b[1;33m\u001b[0m\u001b[1;33m\u001b[0m\u001b[1;33m\u001b[0m\u001b[0m\n\u001b[1;32m----> 2\u001b[1;33m \u001b[0mstr\u001b[0m\u001b[1;33m.\u001b[0m\u001b[0mindex\u001b[0m\u001b[1;33m(\u001b[0m\u001b[1;34m\"a\"\u001b[0m\u001b[1;33m)\u001b[0m\u001b[1;33m\u001b[0m\u001b[1;33m\u001b[0m\u001b[0m\n\u001b[0m",
      "\u001b[1;31mValueError\u001b[0m: substring not found"
     ]
    }
   ],
   "source": [
    "# index和find的区别是在找不到的时候会报错\n",
    "str.index(\"a\")"
   ]
  },
  {
   "cell_type": "markdown",
   "metadata": {},
   "source": [
    "### 列表（ [] 或者list() ）"
   ]
  },
  {
   "cell_type": "markdown",
   "metadata": {},
   "source": [
    "#### 追加和替换"
   ]
  },
  {
   "cell_type": "code",
   "execution_count": 76,
   "metadata": {
    "ExecuteTime": {
     "end_time": "2020-01-12T02:46:59.945697Z",
     "start_time": "2020-01-12T02:46:59.942676Z"
    }
   },
   "outputs": [],
   "source": [
    "# 空列表\n",
    "values1 = []\n",
    "vlaues2 = list()"
   ]
  },
  {
   "cell_type": "code",
   "execution_count": 78,
   "metadata": {
    "ExecuteTime": {
     "end_time": "2020-01-12T02:48:00.874644Z",
     "start_time": "2020-01-12T02:48:00.870642Z"
    }
   },
   "outputs": [],
   "source": [
    "# 列表是可变类型，并且是可以装任意类型的对象\n",
    "value_list = [1, 2, 3, 'hello', 'python', [], [100, 200]]"
   ]
  },
  {
   "cell_type": "code",
   "execution_count": 80,
   "metadata": {
    "ExecuteTime": {
     "end_time": "2020-01-12T02:49:49.003306Z",
     "start_time": "2020-01-12T02:49:48.998342Z"
    }
   },
   "outputs": [
    {
     "data": {
      "text/plain": [
       "[1, 2, 'hello python']"
      ]
     },
     "execution_count": 80,
     "metadata": {},
     "output_type": "execute_result"
    }
   ],
   "source": [
    "# 追加\n",
    "values = []\n",
    "values.append(1)\n",
    "values.append(2)\n",
    "values.append(\"hello python\")\n",
    "values"
   ]
  },
  {
   "cell_type": "code",
   "execution_count": 83,
   "metadata": {
    "ExecuteTime": {
     "end_time": "2020-01-12T02:51:10.978213Z",
     "start_time": "2020-01-12T02:51:10.973252Z"
    }
   },
   "outputs": [
    {
     "data": {
      "text/plain": [
       "[100, 2, 'hello python']"
      ]
     },
     "execution_count": 83,
     "metadata": {},
     "output_type": "execute_result"
    }
   ],
   "source": [
    "# 替换\n",
    "values[0] = 100\n",
    "values"
   ]
  },
  {
   "cell_type": "code",
   "execution_count": 85,
   "metadata": {
    "ExecuteTime": {
     "end_time": "2020-01-12T02:55:48.158425Z",
     "start_time": "2020-01-12T02:55:48.153438Z"
    }
   },
   "outputs": [
    {
     "data": {
      "text/plain": [
       "int"
      ]
     },
     "execution_count": 85,
     "metadata": {},
     "output_type": "execute_result"
    }
   ],
   "source": [
    "# 查看变量类型\n",
    "a = 100\n",
    "type(a)"
   ]
  },
  {
   "cell_type": "markdown",
   "metadata": {},
   "source": [
    "#### 截取操作"
   ]
  },
  {
   "cell_type": "code",
   "execution_count": 93,
   "metadata": {
    "ExecuteTime": {
     "end_time": "2020-01-12T02:59:25.674883Z",
     "start_time": "2020-01-12T02:59:25.670889Z"
    }
   },
   "outputs": [
    {
     "data": {
      "text/plain": [
       "[100, 2, 'hello python']"
      ]
     },
     "execution_count": 93,
     "metadata": {},
     "output_type": "execute_result"
    }
   ],
   "source": [
    "# 取全部内容\n",
    "values[::]"
   ]
  },
  {
   "cell_type": "code",
   "execution_count": 92,
   "metadata": {
    "ExecuteTime": {
     "end_time": "2020-01-12T02:59:15.444572Z",
     "start_time": "2020-01-12T02:59:15.438587Z"
    }
   },
   "outputs": [
    {
     "data": {
      "text/plain": [
       "[2, 'hello python']"
      ]
     },
     "execution_count": 92,
     "metadata": {},
     "output_type": "execute_result"
    }
   ],
   "source": [
    "# 取后面两个\n",
    "values[-2:]"
   ]
  },
  {
   "cell_type": "markdown",
   "metadata": {},
   "source": [
    "#### 追加操作"
   ]
  },
  {
   "cell_type": "code",
   "execution_count": 94,
   "metadata": {
    "ExecuteTime": {
     "end_time": "2020-01-12T02:59:59.827410Z",
     "start_time": "2020-01-12T02:59:59.823392Z"
    }
   },
   "outputs": [
    {
     "data": {
      "text/plain": [
       "[100, 2, 'hello python', 400, 500]"
      ]
     },
     "execution_count": 94,
     "metadata": {},
     "output_type": "execute_result"
    }
   ],
   "source": [
    "# 追加\n",
    "values+[400, 500]"
   ]
  },
  {
   "cell_type": "markdown",
   "metadata": {},
   "source": [
    "#### 乘法操作"
   ]
  },
  {
   "cell_type": "code",
   "execution_count": 97,
   "metadata": {
    "ExecuteTime": {
     "end_time": "2020-01-12T03:03:22.621904Z",
     "start_time": "2020-01-12T03:03:22.615921Z"
    }
   },
   "outputs": [
    {
     "data": {
      "text/plain": [
       "[100, 2, 'hello python', 100, 2, 'hello python', 100, 2, 'hello python']"
      ]
     },
     "execution_count": 97,
     "metadata": {},
     "output_type": "execute_result"
    }
   ],
   "source": [
    "# 输出多次\n",
    "values * 3"
   ]
  },
  {
   "cell_type": "markdown",
   "metadata": {},
   "source": [
    "#### 函数操作"
   ]
  },
  {
   "cell_type": "code",
   "execution_count": 98,
   "metadata": {
    "ExecuteTime": {
     "end_time": "2020-01-12T03:03:30.619292Z",
     "start_time": "2020-01-12T03:03:30.614286Z"
    }
   },
   "outputs": [
    {
     "data": {
      "text/plain": [
       "9"
      ]
     },
     "execution_count": 98,
     "metadata": {},
     "output_type": "execute_result"
    }
   ],
   "source": [
    "# 获取长度\n",
    "len(values)"
   ]
  },
  {
   "cell_type": "code",
   "execution_count": null,
   "metadata": {},
   "outputs": [],
   "source": [
    "# 清空\n",
    "values.clear()"
   ]
  },
  {
   "cell_type": "code",
   "execution_count": 102,
   "metadata": {
    "ExecuteTime": {
     "end_time": "2020-01-12T03:06:47.399023Z",
     "start_time": "2020-01-12T03:06:47.394036Z"
    }
   },
   "outputs": [
    {
     "data": {
      "text/plain": [
       "[100, 2, 'hello python']"
      ]
     },
     "execution_count": 102,
     "metadata": {},
     "output_type": "execute_result"
    }
   ],
   "source": [
    "# copy函数,copy后变量和以前的变量是两个变量，如果直接是=的话就会影响之前的那个变量\n",
    "values2 = values.copy()\n",
    "values2"
   ]
  },
  {
   "cell_type": "code",
   "execution_count": 111,
   "metadata": {
    "ExecuteTime": {
     "end_time": "2020-01-12T03:10:28.950765Z",
     "start_time": "2020-01-12T03:10:28.945804Z"
    }
   },
   "outputs": [
    {
     "data": {
      "text/plain": [
       "[100, 2, 'hello python', [400, 500], [400, 500], [400, 500]]"
      ]
     },
     "execution_count": 111,
     "metadata": {},
     "output_type": "execute_result"
    }
   ],
   "source": [
    "# 浅复制和深复制\n",
    "valus = [100, 2, 'hello python']\n",
    "new_values = values.copy()\n",
    "new_values"
   ]
  },
  {
   "cell_type": "code",
   "execution_count": 112,
   "metadata": {
    "ExecuteTime": {
     "end_time": "2020-01-12T03:10:43.963968Z",
     "start_time": "2020-01-12T03:10:43.958983Z"
    }
   },
   "outputs": [
    {
     "data": {
      "text/plain": [
       "[100, 2, 'hello python', [400, 500], [400, 500], [400, 500]]"
      ]
     },
     "execution_count": 112,
     "metadata": {},
     "output_type": "execute_result"
    }
   ],
   "source": [
    "new_values"
   ]
  },
  {
   "cell_type": "code",
   "execution_count": 116,
   "metadata": {
    "ExecuteTime": {
     "end_time": "2020-01-12T03:11:58.702443Z",
     "start_time": "2020-01-12T03:11:58.696457Z"
    }
   },
   "outputs": [
    {
     "data": {
      "text/plain": [
       "[100, 2, 'hello python', [9999, 500], [9999, 500], [9999, 500]]"
      ]
     },
     "execution_count": 116,
     "metadata": {},
     "output_type": "execute_result"
    }
   ],
   "source": [
    "new_values[3][0] = 9999\n",
    "new_values"
   ]
  },
  {
   "cell_type": "code",
   "execution_count": 117,
   "metadata": {
    "ExecuteTime": {
     "end_time": "2020-01-12T03:12:51.429598Z",
     "start_time": "2020-01-12T03:12:51.424611Z"
    }
   },
   "outputs": [
    {
     "data": {
      "text/plain": [
       "[1, 2, 3, 4]"
      ]
     },
     "execution_count": 117,
     "metadata": {},
     "output_type": "execute_result"
    }
   ],
   "source": [
    "# 扩展函数\n",
    "a = [1, 2]\n",
    "b = [3, 4]\n",
    "a+b"
   ]
  },
  {
   "cell_type": "code",
   "execution_count": 119,
   "metadata": {
    "ExecuteTime": {
     "end_time": "2020-01-12T03:13:37.716985Z",
     "start_time": "2020-01-12T03:13:37.711999Z"
    }
   },
   "outputs": [
    {
     "data": {
      "text/plain": [
       "[1, 2, 3, 4, 3, 4]"
      ]
     },
     "execution_count": 119,
     "metadata": {},
     "output_type": "execute_result"
    }
   ],
   "source": [
    "# extend 没有返回值\n",
    "a.extend(b)\n",
    "a"
   ]
  },
  {
   "cell_type": "code",
   "execution_count": 121,
   "metadata": {
    "ExecuteTime": {
     "end_time": "2020-01-12T03:14:04.729233Z",
     "start_time": "2020-01-12T03:14:04.724247Z"
    }
   },
   "outputs": [
    {
     "data": {
      "text/plain": [
       "[100, 100, 1, 2, 3, 4, 3, 4]"
      ]
     },
     "execution_count": 121,
     "metadata": {},
     "output_type": "execute_result"
    }
   ],
   "source": [
    "# 插入\n",
    "a.insert(0, 100)\n",
    "a"
   ]
  },
  {
   "cell_type": "code",
   "execution_count": 122,
   "metadata": {
    "ExecuteTime": {
     "end_time": "2020-01-12T03:14:32.367797Z",
     "start_time": "2020-01-12T03:14:32.362813Z"
    }
   },
   "outputs": [
    {
     "data": {
      "text/plain": [
       "[100, 100, 1, 2, 3, 4, 3]"
      ]
     },
     "execution_count": 122,
     "metadata": {},
     "output_type": "execute_result"
    }
   ],
   "source": [
    "# 弹出\n",
    "a.pop()\n",
    "a"
   ]
  },
  {
   "cell_type": "code",
   "execution_count": 123,
   "metadata": {
    "ExecuteTime": {
     "end_time": "2020-01-12T03:14:58.468485Z",
     "start_time": "2020-01-12T03:14:58.464495Z"
    }
   },
   "outputs": [
    {
     "data": {
      "text/plain": [
       "100"
      ]
     },
     "execution_count": 123,
     "metadata": {},
     "output_type": "execute_result"
    }
   ],
   "source": [
    "a.pop(0)"
   ]
  },
  {
   "cell_type": "code",
   "execution_count": 124,
   "metadata": {
    "ExecuteTime": {
     "end_time": "2020-01-12T03:15:02.416424Z",
     "start_time": "2020-01-12T03:15:02.412462Z"
    }
   },
   "outputs": [
    {
     "data": {
      "text/plain": [
       "[100, 1, 2, 3, 4, 3]"
      ]
     },
     "execution_count": 124,
     "metadata": {},
     "output_type": "execute_result"
    }
   ],
   "source": [
    "a"
   ]
  },
  {
   "cell_type": "code",
   "execution_count": 125,
   "metadata": {
    "ExecuteTime": {
     "end_time": "2020-01-12T03:15:27.439613Z",
     "start_time": "2020-01-12T03:15:27.435624Z"
    }
   },
   "outputs": [],
   "source": [
    "# remove函数移除第一个出现那个\n",
    "a.remove(1)"
   ]
  },
  {
   "cell_type": "code",
   "execution_count": 126,
   "metadata": {
    "ExecuteTime": {
     "end_time": "2020-01-12T03:15:30.880710Z",
     "start_time": "2020-01-12T03:15:30.875749Z"
    }
   },
   "outputs": [
    {
     "data": {
      "text/plain": [
       "[100, 2, 3, 4, 3]"
      ]
     },
     "execution_count": 126,
     "metadata": {},
     "output_type": "execute_result"
    }
   ],
   "source": [
    "a"
   ]
  },
  {
   "cell_type": "code",
   "execution_count": 127,
   "metadata": {
    "ExecuteTime": {
     "end_time": "2020-01-12T03:16:57.236341Z",
     "start_time": "2020-01-12T03:16:57.228337Z"
    }
   },
   "outputs": [
    {
     "ename": "ValueError",
     "evalue": "list.remove(x): x not in list",
     "output_type": "error",
     "traceback": [
      "\u001b[1;31m---------------------------------------------------------------------------\u001b[0m",
      "\u001b[1;31mValueError\u001b[0m                                Traceback (most recent call last)",
      "\u001b[1;32m<ipython-input-127-0f589223072b>\u001b[0m in \u001b[0;36m<module>\u001b[1;34m\u001b[0m\n\u001b[0;32m      1\u001b[0m \u001b[1;31m# 移除不存在的值编译出错\u001b[0m\u001b[1;33m\u001b[0m\u001b[1;33m\u001b[0m\u001b[1;33m\u001b[0m\u001b[0m\n\u001b[1;32m----> 2\u001b[1;33m \u001b[0ma\u001b[0m\u001b[1;33m.\u001b[0m\u001b[0mremove\u001b[0m\u001b[1;33m(\u001b[0m\u001b[1;36m200\u001b[0m\u001b[1;33m)\u001b[0m\u001b[1;33m\u001b[0m\u001b[1;33m\u001b[0m\u001b[0m\n\u001b[0m",
      "\u001b[1;31mValueError\u001b[0m: list.remove(x): x not in list"
     ]
    }
   ],
   "source": [
    "# 移除不存在的值编译出错\n",
    "a.remove(200)"
   ]
  },
  {
   "cell_type": "markdown",
   "metadata": {},
   "source": [
    "### 数值（Number）"
   ]
  },
  {
   "cell_type": "markdown",
   "metadata": {},
   "source": [
    "#### 整数和计算（int）"
   ]
  },
  {
   "cell_type": "code",
   "execution_count": 3,
   "metadata": {
    "ExecuteTime": {
     "end_time": "2020-01-12T01:35:25.865981Z",
     "start_time": "2020-01-12T01:35:25.861939Z"
    },
    "scrolled": true
   },
   "outputs": [],
   "source": [
    "# 加、减、乘、除\n",
    "number += 10\n",
    "number -= 10\n",
    "number *= 10\n",
    "number /= 10"
   ]
  },
  {
   "cell_type": "code",
   "execution_count": 6,
   "metadata": {
    "ExecuteTime": {
     "end_time": "2020-01-12T01:36:49.599071Z",
     "start_time": "2020-01-12T01:36:49.591111Z"
    }
   },
   "outputs": [
    {
     "data": {
      "text/plain": [
       "8.0"
      ]
     },
     "execution_count": 6,
     "metadata": {},
     "output_type": "execute_result"
    }
   ],
   "source": [
    "# 乘方、开方\n",
    "import math\n",
    "math.pow(2, 3)"
   ]
  },
  {
   "cell_type": "code",
   "execution_count": 13,
   "metadata": {
    "ExecuteTime": {
     "end_time": "2020-01-12T01:40:51.727200Z",
     "start_time": "2020-01-12T01:40:51.722215Z"
    }
   },
   "outputs": [
    {
     "data": {
      "text/plain": [
       "8"
      ]
     },
     "execution_count": 13,
     "metadata": {},
     "output_type": "execute_result"
    }
   ],
   "source": [
    "# 下面这种方式计算乘方比上面快，推荐使用\n",
    "2 ** 3"
   ]
  },
  {
   "cell_type": "code",
   "execution_count": 9,
   "metadata": {
    "ExecuteTime": {
     "end_time": "2020-01-12T01:38:56.233926Z",
     "start_time": "2020-01-12T01:38:56.229932Z"
    }
   },
   "outputs": [
    {
     "data": {
      "text/plain": [
       "2"
      ]
     },
     "execution_count": 9,
     "metadata": {},
     "output_type": "execute_result"
    }
   ],
   "source": [
    "# 向下取整\n",
    "math.floor(2.3333)"
   ]
  },
  {
   "cell_type": "code",
   "execution_count": 10,
   "metadata": {
    "ExecuteTime": {
     "end_time": "2020-01-12T01:39:31.212087Z",
     "start_time": "2020-01-12T01:39:31.206104Z"
    }
   },
   "outputs": [
    {
     "data": {
      "text/plain": [
       "3"
      ]
     },
     "execution_count": 10,
     "metadata": {},
     "output_type": "execute_result"
    }
   ],
   "source": [
    "# 向上取整\n",
    "math.ceil(2.333)"
   ]
  },
  {
   "cell_type": "code",
   "execution_count": 12,
   "metadata": {
    "ExecuteTime": {
     "end_time": "2020-01-12T01:40:19.259807Z",
     "start_time": "2020-01-12T01:40:19.254843Z"
    }
   },
   "outputs": [
    {
     "data": {
      "text/plain": [
       "3.141592653589793"
      ]
     },
     "execution_count": 12,
     "metadata": {},
     "output_type": "execute_result"
    }
   ],
   "source": [
    "# 进制转换 ,下面输出PI的值\n",
    "math.radians(180)"
   ]
  },
  {
   "cell_type": "code",
   "execution_count": 15,
   "metadata": {
    "ExecuteTime": {
     "end_time": "2020-01-12T01:42:11.539537Z",
     "start_time": "2020-01-12T01:42:11.535552Z"
    }
   },
   "outputs": [
    {
     "data": {
      "text/plain": [
       "1"
      ]
     },
     "execution_count": 15,
     "metadata": {},
     "output_type": "execute_result"
    }
   ],
   "source": [
    "# 取最小值\n",
    "min(10, 20, 30, 1)"
   ]
  },
  {
   "cell_type": "code",
   "execution_count": 17,
   "metadata": {
    "ExecuteTime": {
     "end_time": "2020-01-12T01:42:42.237520Z",
     "start_time": "2020-01-12T01:42:42.232534Z"
    }
   },
   "outputs": [
    {
     "data": {
      "text/plain": [
       "30"
      ]
     },
     "execution_count": 17,
     "metadata": {},
     "output_type": "execute_result"
    }
   ],
   "source": [
    "# 取最大值\n",
    "max(10, 20, 30, 1)"
   ]
  },
  {
   "cell_type": "code",
   "execution_count": 19,
   "metadata": {
    "ExecuteTime": {
     "end_time": "2020-01-12T01:43:19.520815Z",
     "start_time": "2020-01-12T01:43:19.516828Z"
    }
   },
   "outputs": [
    {
     "data": {
      "text/plain": [
       "61"
      ]
     },
     "execution_count": 19,
     "metadata": {},
     "output_type": "execute_result"
    }
   ],
   "source": [
    "# 求和\n",
    "sum([10, 20, 30, 1])"
   ]
  },
  {
   "cell_type": "code",
   "execution_count": 20,
   "metadata": {
    "ExecuteTime": {
     "end_time": "2020-01-12T01:44:47.267008Z",
     "start_time": "2020-01-12T01:44:47.262023Z"
    }
   },
   "outputs": [
    {
     "data": {
      "text/plain": [
       "(3, 1)"
      ]
     },
     "execution_count": 20,
     "metadata": {},
     "output_type": "execute_result"
    }
   ],
   "source": [
    "# 求商和余\n",
    "divmod(10, 3)"
   ]
  },
  {
   "cell_type": "markdown",
   "metadata": {},
   "source": [
    "### bool类型"
   ]
  },
  {
   "cell_type": "markdown",
   "metadata": {},
   "source": [
    "#### True等价于1，False等价于0"
   ]
  },
  {
   "cell_type": "code",
   "execution_count": 22,
   "metadata": {
    "ExecuteTime": {
     "end_time": "2020-01-12T01:46:22.896683Z",
     "start_time": "2020-01-12T01:46:22.892714Z"
    }
   },
   "outputs": [
    {
     "data": {
      "text/plain": [
       "True"
      ]
     },
     "execution_count": 22,
     "metadata": {},
     "output_type": "execute_result"
    }
   ],
   "source": [
    "True == 1"
   ]
  },
  {
   "cell_type": "code",
   "execution_count": 24,
   "metadata": {
    "ExecuteTime": {
     "end_time": "2020-01-12T01:46:43.429470Z",
     "start_time": "2020-01-12T01:46:43.424477Z"
    }
   },
   "outputs": [
    {
     "data": {
      "text/plain": [
       "True"
      ]
     },
     "execution_count": 24,
     "metadata": {},
     "output_type": "execute_result"
    }
   ],
   "source": [
    "False == 0"
   ]
  },
  {
   "cell_type": "markdown",
   "metadata": {},
   "source": [
    "#### bool运算"
   ]
  },
  {
   "cell_type": "code",
   "execution_count": 28,
   "metadata": {
    "ExecuteTime": {
     "end_time": "2020-01-12T01:50:15.282819Z",
     "start_time": "2020-01-12T01:50:15.278853Z"
    }
   },
   "outputs": [
    {
     "data": {
      "text/plain": [
       "False"
      ]
     },
     "execution_count": 28,
     "metadata": {},
     "output_type": "execute_result"
    }
   ],
   "source": [
    "# 与运算\n",
    "True and False"
   ]
  },
  {
   "cell_type": "code",
   "execution_count": 29,
   "metadata": {
    "ExecuteTime": {
     "end_time": "2020-01-12T01:50:31.371197Z",
     "start_time": "2020-01-12T01:50:31.366223Z"
    }
   },
   "outputs": [
    {
     "data": {
      "text/plain": [
       "True"
      ]
     },
     "execution_count": 29,
     "metadata": {},
     "output_type": "execute_result"
    }
   ],
   "source": [
    "# 或运算\n",
    "True or False"
   ]
  },
  {
   "cell_type": "code",
   "execution_count": 30,
   "metadata": {
    "ExecuteTime": {
     "end_time": "2020-01-12T01:50:47.946494Z",
     "start_time": "2020-01-12T01:50:47.941508Z"
    },
    "scrolled": true
   },
   "outputs": [
    {
     "data": {
      "text/plain": [
       "True"
      ]
     },
     "execution_count": 30,
     "metadata": {},
     "output_type": "execute_result"
    }
   ],
   "source": [
    "# 非运算\n",
    "not False"
   ]
  },
  {
   "cell_type": "markdown",
   "metadata": {},
   "source": [
    "### 元组类型（ typle ）"
   ]
  },
  {
   "cell_type": "code",
   "execution_count": 131,
   "metadata": {
    "ExecuteTime": {
     "end_time": "2020-01-12T03:21:54.525896Z",
     "start_time": "2020-01-12T03:21:54.521908Z"
    }
   },
   "outputs": [],
   "source": [
    "var = (1, 2, 4, 4, [3, 4, 5])"
   ]
  },
  {
   "cell_type": "markdown",
   "metadata": {},
   "source": [
    "#### 函数操作"
   ]
  },
  {
   "cell_type": "code",
   "execution_count": 132,
   "metadata": {
    "ExecuteTime": {
     "end_time": "2020-01-12T03:21:55.614226Z",
     "start_time": "2020-01-12T03:21:55.609240Z"
    }
   },
   "outputs": [
    {
     "data": {
      "text/plain": [
       "2"
      ]
     },
     "execution_count": 132,
     "metadata": {},
     "output_type": "execute_result"
    }
   ],
   "source": [
    "# 计数函数\n",
    "var.count(4)"
   ]
  },
  {
   "cell_type": "code",
   "execution_count": 134,
   "metadata": {
    "ExecuteTime": {
     "end_time": "2020-01-12T03:22:36.628272Z",
     "start_time": "2020-01-12T03:22:36.622246Z"
    }
   },
   "outputs": [
    {
     "data": {
      "text/plain": [
       "1"
      ]
     },
     "execution_count": 134,
     "metadata": {},
     "output_type": "execute_result"
    }
   ],
   "source": [
    "# 返回下标\n",
    "var.index(2)"
   ]
  },
  {
   "cell_type": "markdown",
   "metadata": {},
   "source": [
    "### 字典类型（ dictionary ）"
   ]
  },
  {
   "cell_type": "code",
   "execution_count": null,
   "metadata": {},
   "outputs": [],
   "source": [
    "var = {}\n",
    "var = dict()"
   ]
  },
  {
   "cell_type": "code",
   "execution_count": 136,
   "metadata": {
    "ExecuteTime": {
     "end_time": "2020-01-12T03:33:57.070026Z",
     "start_time": "2020-01-12T03:33:56.722940Z"
    }
   },
   "outputs": [
    {
     "data": {
      "text/plain": [
       "{'id': '', 'name': 'zxb'}"
      ]
     },
     "execution_count": 136,
     "metadata": {},
     "output_type": "execute_result"
    }
   ],
   "source": [
    "var = {\n",
    "    'id': '',\n",
    "    'name': 'zxb'\n",
    "}\n",
    "var"
   ]
  },
  {
   "cell_type": "code",
   "execution_count": 137,
   "metadata": {
    "ExecuteTime": {
     "end_time": "2020-01-12T03:34:13.729564Z",
     "start_time": "2020-01-12T03:34:13.724578Z"
    }
   },
   "outputs": [
    {
     "data": {
      "text/plain": [
       "'zxb'"
      ]
     },
     "execution_count": 137,
     "metadata": {},
     "output_type": "execute_result"
    }
   ],
   "source": [
    "var['name']"
   ]
  },
  {
   "cell_type": "markdown",
   "metadata": {},
   "source": [
    "#### 拉锁函数（ list 转dict ）"
   ]
  },
  {
   "cell_type": "code",
   "execution_count": 141,
   "metadata": {
    "ExecuteTime": {
     "end_time": "2020-01-12T03:38:53.508021Z",
     "start_time": "2020-01-12T03:38:53.504031Z"
    }
   },
   "outputs": [
    {
     "data": {
      "text/plain": [
       "[(1, 'zxb'), (2, '孙悟空')]"
      ]
     },
     "execution_count": 141,
     "metadata": {},
     "output_type": "execute_result"
    }
   ],
   "source": [
    "# 转list\n",
    "user_id = [1, 2]\n",
    "user_name = ['zxb', '孙悟空']\n",
    "list(zip(user_id, user_name))"
   ]
  },
  {
   "cell_type": "code",
   "execution_count": 140,
   "metadata": {
    "ExecuteTime": {
     "end_time": "2020-01-12T03:38:11.212034Z",
     "start_time": "2020-01-12T03:38:11.206051Z"
    }
   },
   "outputs": [
    {
     "data": {
      "text/plain": [
       "{1: 'zxb', 2: '孙悟空'}"
      ]
     },
     "execution_count": 140,
     "metadata": {},
     "output_type": "execute_result"
    }
   ],
   "source": [
    "# 转dict\n",
    "dict(zip(user_id, user_name))"
   ]
  },
  {
   "cell_type": "code",
   "execution_count": 142,
   "metadata": {
    "ExecuteTime": {
     "end_time": "2020-01-12T03:42:20.716158Z",
     "start_time": "2020-01-12T03:42:20.711170Z"
    }
   },
   "outputs": [
    {
     "data": {
      "text/plain": [
       "[(1, 3, 5), (2, 4, 6)]"
      ]
     },
     "execution_count": 142,
     "metadata": {},
     "output_type": "execute_result"
    }
   ],
   "source": [
    "list(zip([1, 2], [3, 4], [5, 6]))"
   ]
  },
  {
   "cell_type": "code",
   "execution_count": 143,
   "metadata": {
    "ExecuteTime": {
     "end_time": "2020-01-12T03:43:25.466645Z",
     "start_time": "2020-01-12T03:43:25.459662Z"
    }
   },
   "outputs": [
    {
     "data": {
      "text/plain": [
       "[(1, 3, 5), (2, 4, 6), (3, 5, 7)]"
      ]
     },
     "execution_count": 143,
     "metadata": {},
     "output_type": "execute_result"
    }
   ],
   "source": [
    "list(zip([1, 2, 3], [3, 4, 5], [5, 6, 7]))"
   ]
  },
  {
   "cell_type": "markdown",
   "metadata": {},
   "source": [
    "#### 快速生成字典"
   ]
  },
  {
   "cell_type": "code",
   "execution_count": 147,
   "metadata": {
    "ExecuteTime": {
     "end_time": "2020-01-12T03:47:23.779265Z",
     "start_time": "2020-01-12T03:47:23.775275Z"
    }
   },
   "outputs": [],
   "source": [
    "students = ['zhang', 'li', 'wang', 'qian']"
   ]
  },
  {
   "cell_type": "code",
   "execution_count": 149,
   "metadata": {
    "ExecuteTime": {
     "end_time": "2020-01-12T03:47:31.845052Z",
     "start_time": "2020-01-12T03:47:31.840065Z"
    }
   },
   "outputs": [
    {
     "data": {
      "text/plain": [
       "{'zhang': 50, 'li': 50, 'wang': 50, 'qian': 50}"
      ]
     },
     "execution_count": 149,
     "metadata": {},
     "output_type": "execute_result"
    }
   ],
   "source": [
    "money = dict.fromkeys(students, 50)\n",
    "money"
   ]
  },
  {
   "cell_type": "markdown",
   "metadata": {},
   "source": [
    "#### 访问字典中的值"
   ]
  },
  {
   "cell_type": "code",
   "execution_count": 151,
   "metadata": {
    "ExecuteTime": {
     "end_time": "2020-01-12T03:47:56.205977Z",
     "start_time": "2020-01-12T03:47:56.200951Z"
    }
   },
   "outputs": [
    {
     "data": {
      "text/plain": [
       "50"
      ]
     },
     "execution_count": 151,
     "metadata": {},
     "output_type": "execute_result"
    }
   ],
   "source": [
    "# 直接获取\n",
    "money['zhang']"
   ]
  },
  {
   "cell_type": "code",
   "execution_count": 154,
   "metadata": {
    "ExecuteTime": {
     "end_time": "2020-01-12T03:49:09.294563Z",
     "start_time": "2020-01-12T03:49:09.290574Z"
    }
   },
   "outputs": [
    {
     "data": {
      "text/plain": [
       "100"
      ]
     },
     "execution_count": 154,
     "metadata": {},
     "output_type": "execute_result"
    }
   ],
   "source": [
    "# get 函数找不到可以返回一个值\n",
    "money.get('zhao', 100)"
   ]
  },
  {
   "cell_type": "markdown",
   "metadata": {},
   "source": [
    "#### 函数操作"
   ]
  },
  {
   "cell_type": "code",
   "execution_count": 155,
   "metadata": {
    "ExecuteTime": {
     "end_time": "2020-01-12T03:50:01.457404Z",
     "start_time": "2020-01-12T03:50:01.454405Z"
    }
   },
   "outputs": [
    {
     "data": {
      "text/plain": [
       "dict_keys(['zhang', 'li', 'wang', 'qian'])"
      ]
     },
     "execution_count": 155,
     "metadata": {},
     "output_type": "execute_result"
    }
   ],
   "source": [
    "# 返回键值\n",
    "money.keys()"
   ]
  },
  {
   "cell_type": "code",
   "execution_count": 156,
   "metadata": {
    "ExecuteTime": {
     "end_time": "2020-01-12T03:50:27.450202Z",
     "start_time": "2020-01-12T03:50:27.444256Z"
    }
   },
   "outputs": [
    {
     "data": {
      "text/plain": [
       "dict_values([50, 50, 50, 50])"
      ]
     },
     "execution_count": 156,
     "metadata": {},
     "output_type": "execute_result"
    }
   ],
   "source": [
    "# 返回values\n",
    "money.values()"
   ]
  },
  {
   "cell_type": "code",
   "execution_count": 157,
   "metadata": {
    "ExecuteTime": {
     "end_time": "2020-01-12T03:50:58.250568Z",
     "start_time": "2020-01-12T03:50:58.245582Z"
    }
   },
   "outputs": [
    {
     "data": {
      "text/plain": [
       "dict_items([('zhang', 50), ('li', 50), ('wang', 50), ('qian', 50)])"
      ]
     },
     "execution_count": 157,
     "metadata": {},
     "output_type": "execute_result"
    }
   ],
   "source": [
    "# items\n",
    "money.items()"
   ]
  },
  {
   "cell_type": "code",
   "execution_count": 158,
   "metadata": {
    "ExecuteTime": {
     "end_time": "2020-01-12T03:52:37.635737Z",
     "start_time": "2020-01-12T03:52:37.631764Z"
    },
    "scrolled": false
   },
   "outputs": [
    {
     "data": {
      "text/plain": [
       "{'zhang': 50, 'li': 50, 'wang': 50, 'qian': 50}"
      ]
     },
     "execution_count": 158,
     "metadata": {},
     "output_type": "execute_result"
    }
   ],
   "source": [
    "money"
   ]
  },
  {
   "cell_type": "code",
   "execution_count": 161,
   "metadata": {
    "ExecuteTime": {
     "end_time": "2020-01-12T03:53:29.737709Z",
     "start_time": "2020-01-12T03:53:29.732735Z"
    }
   },
   "outputs": [
    {
     "data": {
      "text/plain": [
       "1000"
      ]
     },
     "execution_count": 161,
     "metadata": {},
     "output_type": "execute_result"
    }
   ],
   "source": [
    "money.setdefault('haha', 1000)"
   ]
  },
  {
   "cell_type": "code",
   "execution_count": 160,
   "metadata": {
    "ExecuteTime": {
     "end_time": "2020-01-12T03:53:21.211866Z",
     "start_time": "2020-01-12T03:53:21.206904Z"
    }
   },
   "outputs": [
    {
     "data": {
      "text/plain": [
       "{'zhang': 50, 'li': 50, 'wang': 50, 'qian': 50, 'haha': 1000}"
      ]
     },
     "execution_count": 160,
     "metadata": {},
     "output_type": "execute_result"
    }
   ],
   "source": [
    "money"
   ]
  },
  {
   "cell_type": "markdown",
   "metadata": {},
   "source": [
    "## 条件判断"
   ]
  },
  {
   "cell_type": "code",
   "execution_count": null,
   "metadata": {},
   "outputs": [],
   "source": [
    "if condition:\n",
    "    do something\n",
    "else:\n",
    "    do something"
   ]
  },
  {
   "cell_type": "code",
   "execution_count": 3,
   "metadata": {
    "ExecuteTime": {
     "end_time": "2020-01-13T02:21:35.559015Z",
     "start_time": "2020-01-13T02:21:35.543393Z"
    }
   },
   "outputs": [
    {
     "name": "stdout",
     "output_type": "stream",
     "text": [
      "实际花费金额为：29.25\n"
     ]
    }
   ],
   "source": [
    "total_cost = 32.5\n",
    "if total_cost > 50:\n",
    "    discount = 0.8\n",
    "elif total_cost > 30:\n",
    "    discount = 0.9\n",
    "else:\n",
    "    discount = 1\n",
    "total_cost *= discount\n",
    "print(\"实际花费金额为：{}\".format(total_cost))"
   ]
  },
  {
   "cell_type": "markdown",
   "metadata": {},
   "source": [
    "#### 重点\n",
    "\n",
    "- 1、elif 可以有多个，else 可有可无\n",
    "- 2、条件判断可以进行嵌套\n",
    "- 3、条件（condition的几种情况）"
   ]
  },
  {
   "cell_type": "code",
   "execution_count": 6,
   "metadata": {
    "ExecuteTime": {
     "end_time": "2020-01-13T02:48:15.548940Z",
     "start_time": "2020-01-13T02:48:15.544983Z"
    }
   },
   "outputs": [
    {
     "data": {
      "text/plain": [
       "(False, False, False)"
      ]
     },
     "execution_count": 6,
     "metadata": {},
     "output_type": "execute_result"
    }
   ],
   "source": [
    "bool(''), bool({}), bool([])"
   ]
  },
  {
   "cell_type": "code",
   "execution_count": 7,
   "metadata": {
    "ExecuteTime": {
     "end_time": "2020-01-13T02:49:53.338986Z",
     "start_time": "2020-01-13T02:49:53.335006Z"
    }
   },
   "outputs": [
    {
     "name": "stdout",
     "output_type": "stream",
     "text": [
      "False\n"
     ]
    }
   ],
   "source": [
    "# 空字符串作为判断条件\n",
    "condition = ''\n",
    "if condition:\n",
    "    print(\"True\")\n",
    "else:\n",
    "    print(\"False\")"
   ]
  },
  {
   "cell_type": "code",
   "execution_count": 8,
   "metadata": {
    "ExecuteTime": {
     "end_time": "2020-01-13T02:50:11.100174Z",
     "start_time": "2020-01-13T02:50:11.096168Z"
    }
   },
   "outputs": [
    {
     "name": "stdout",
     "output_type": "stream",
     "text": [
      "False\n"
     ]
    }
   ],
   "source": [
    "# 空字典作为判断条件\n",
    "condition = {}\n",
    "if condition:\n",
    "    print(\"True\")\n",
    "else:\n",
    "    print(\"False\")"
   ]
  },
  {
   "cell_type": "code",
   "execution_count": 9,
   "metadata": {
    "ExecuteTime": {
     "end_time": "2020-01-13T02:50:16.515935Z",
     "start_time": "2020-01-13T02:50:16.511946Z"
    }
   },
   "outputs": [
    {
     "name": "stdout",
     "output_type": "stream",
     "text": [
      "False\n"
     ]
    }
   ],
   "source": [
    "# 空列表作为判断条件\n",
    "condition = []\n",
    "if condition:\n",
    "    print(\"True\")\n",
    "else:\n",
    "    print(\"False\")"
   ]
  },
  {
   "cell_type": "markdown",
   "metadata": {},
   "source": [
    "#### bool类型的计算"
   ]
  },
  {
   "cell_type": "code",
   "execution_count": 11,
   "metadata": {
    "ExecuteTime": {
     "end_time": "2020-01-13T02:52:55.309900Z",
     "start_time": "2020-01-13T02:52:55.301920Z"
    }
   },
   "outputs": [
    {
     "name": "stdout",
     "output_type": "stream",
     "text": [
      "a and b is :False\n",
      "a or b is :True\n"
     ]
    }
   ],
   "source": [
    "a = True\n",
    "b = False\n",
    "print(\"a and b is :{}\".format(a and b))\n",
    "print(\"a or b is :{}\".format(a or b))"
   ]
  },
  {
   "cell_type": "markdown",
   "metadata": {},
   "source": [
    "#### 非bool类型进行计算 "
   ]
  },
  {
   "cell_type": "code",
   "execution_count": 14,
   "metadata": {
    "ExecuteTime": {
     "end_time": "2020-01-13T02:56:35.957223Z",
     "start_time": "2020-01-13T02:56:35.953219Z"
    }
   },
   "outputs": [
    {
     "name": "stdout",
     "output_type": "stream",
     "text": [
      "a and b is :[1, 2, 3]\n",
      "a or b is :hello world\n"
     ]
    }
   ],
   "source": [
    "# a and b打印的是b的内容，a or b 打印的是a的内容\n",
    "a = 'hello world'\n",
    "b = [1, 2, 3]\n",
    "print(\"a and b is :{}\".format(a and b))\n",
    "print(\"a or b is :{}\".format(a or b))"
   ]
  },
  {
   "cell_type": "code",
   "execution_count": 18,
   "metadata": {
    "ExecuteTime": {
     "end_time": "2020-01-13T02:59:52.713881Z",
     "start_time": "2020-01-13T02:59:52.707897Z"
    }
   },
   "outputs": [
    {
     "data": {
      "text/plain": [
       "True"
      ]
     },
     "execution_count": 18,
     "metadata": {},
     "output_type": "execute_result"
    }
   ],
   "source": [
    "# not 计算\n",
    "not ''\n",
    "not {\n",
    "\n",
    "}\n",
    "not []"
   ]
  },
  {
   "cell_type": "markdown",
   "metadata": {},
   "source": [
    "#### 断言（ assert ）\n",
    "\n",
    "- 通俗的讲就是我认定条件是这样的，如果不是这样，程序崩溃"
   ]
  },
  {
   "cell_type": "code",
   "execution_count": 26,
   "metadata": {
    "ExecuteTime": {
     "end_time": "2020-01-13T03:03:45.220256Z",
     "start_time": "2020-01-13T03:03:45.213281Z"
    }
   },
   "outputs": [
    {
     "ename": "AssertionError",
     "evalue": "竟然age不等于19",
     "output_type": "error",
     "traceback": [
      "\u001b[1;31m---------------------------------------------------------------------------\u001b[0m",
      "\u001b[1;31mAssertionError\u001b[0m                            Traceback (most recent call last)",
      "\u001b[1;32m<ipython-input-26-1c0f4aa1b85c>\u001b[0m in \u001b[0;36m<module>\u001b[1;34m\u001b[0m\n\u001b[0;32m      1\u001b[0m \u001b[1;31m# age 不是19的时候程序报错\u001b[0m\u001b[1;33m\u001b[0m\u001b[1;33m\u001b[0m\u001b[1;33m\u001b[0m\u001b[0m\n\u001b[0;32m      2\u001b[0m \u001b[0mage\u001b[0m\u001b[1;33m=\u001b[0m\u001b[1;36m19\u001b[0m\u001b[1;33m\u001b[0m\u001b[1;33m\u001b[0m\u001b[0m\n\u001b[1;32m----> 3\u001b[1;33m \u001b[1;32massert\u001b[0m \u001b[0mage\u001b[0m\u001b[1;33m==\u001b[0m\u001b[1;36m18\u001b[0m\u001b[1;33m,\u001b[0m\u001b[1;34m\"竟然age不等于19\"\u001b[0m\u001b[1;33m\u001b[0m\u001b[1;33m\u001b[0m\u001b[0m\n\u001b[0m",
      "\u001b[1;31mAssertionError\u001b[0m: 竟然age不等于19"
     ]
    }
   ],
   "source": [
    "# age 不是19的时候程序报错\n",
    "age = 19\n",
    "assert age == 18, \"竟然age不等于19\""
   ]
  },
  {
   "cell_type": "markdown",
   "metadata": {},
   "source": [
    "## 循环"
   ]
  },
  {
   "cell_type": "markdown",
   "metadata": {},
   "source": [
    "#### 遍历循环（ for循环 ）"
   ]
  },
  {
   "cell_type": "code",
   "execution_count": 34,
   "metadata": {
    "ExecuteTime": {
     "end_time": "2020-01-13T03:08:21.117678Z",
     "start_time": "2020-01-13T03:08:21.101988Z"
    }
   },
   "outputs": [
    {
     "name": "stdout",
     "output_type": "stream",
     "text": [
      "消费     1      元\n",
      "消费     2      元\n",
      "消费     3      元\n",
      "消费    100     元\n",
      "消费    400     元\n"
     ]
    }
   ],
   "source": [
    "# 依次遍历数组内容并打印，其中center格式化输出，让输出更好看\n",
    "costs = [1, 2, 3, 100, 400]\n",
    "for cost in costs:\n",
    "    print(\"消费 {} 元\".format(str(cost).center(10)))"
   ]
  },
  {
   "cell_type": "markdown",
   "metadata": {},
   "source": [
    "#### 条件循环（ while 循环 ） "
   ]
  },
  {
   "cell_type": "code",
   "execution_count": 38,
   "metadata": {
    "ExecuteTime": {
     "end_time": "2020-01-13T03:26:58.812056Z",
     "start_time": "2020-01-13T03:26:58.808067Z"
    }
   },
   "outputs": [
    {
     "name": "stdout",
     "output_type": "stream",
     "text": [
      "[1, 10, 8, 3, 6, 10, 3, 6, 6, 1, 10, 8, 5, 9, 3, 5, 9, 5, 5, 10] 20\n"
     ]
    }
   ],
   "source": [
    "# 随机生成长度为20的整数列表\n",
    "import random\n",
    "list = []\n",
    "while(len(list) < 20):\n",
    "    list.append(random.randint(1, 10))\n",
    "print(list, len(list))"
   ]
  },
  {
   "cell_type": "code",
   "execution_count": 40,
   "metadata": {
    "ExecuteTime": {
     "end_time": "2020-01-13T03:33:31.488310Z",
     "start_time": "2020-01-13T03:33:31.484296Z"
    }
   },
   "outputs": [
    {
     "name": "stdout",
     "output_type": "stream",
     "text": [
      "[9, 4, 5, 8, 4, 5, 8, 10, 10, 6, 4, 9, 9, 8, 4, 9, 1, 1, 5, 2] 20\n"
     ]
    }
   ],
   "source": [
    "arrays = []\n",
    "for i in range(20):\n",
    "    arrays.append(random.randint(1, 10))\n",
    "print(arrays, len(arrays))"
   ]
  },
  {
   "cell_type": "markdown",
   "metadata": {},
   "source": [
    "#### 循环的条件跟数量无关时，只能用while"
   ]
  },
  {
   "cell_type": "code",
   "execution_count": 43,
   "metadata": {
    "ExecuteTime": {
     "end_time": "2020-01-13T03:41:59.487978Z",
     "start_time": "2020-01-13T03:41:59.483014Z"
    }
   },
   "outputs": [
    {
     "name": "stdout",
     "output_type": "stream",
     "text": [
      "[2, 2, 10, 10, 7, 3, 9] 7\n"
     ]
    }
   ],
   "source": [
    "# 当添加的数为9时才进行终止\n",
    "list_numbers = []\n",
    "while (9 not in list_numbers):\n",
    "    list_numbers.append(random.randint(1, 10))\n",
    "print(list_numbers, len(list_numbers))"
   ]
  },
  {
   "cell_type": "code",
   "execution_count": 44,
   "metadata": {
    "ExecuteTime": {
     "end_time": "2020-01-13T03:47:47.207754Z",
     "start_time": "2020-01-13T03:47:47.201755Z"
    }
   },
   "outputs": [
    {
     "data": {
      "text/plain": [
       "[2, 2, 10, 10, 7, 3, 9]"
      ]
     },
     "execution_count": 44,
     "metadata": {},
     "output_type": "execute_result"
    }
   ],
   "source": [
    "list_numbers"
   ]
  },
  {
   "cell_type": "code",
   "execution_count": 45,
   "metadata": {
    "ExecuteTime": {
     "end_time": "2020-01-13T03:49:15.106779Z",
     "start_time": "2020-01-13T03:49:15.102819Z"
    }
   },
   "outputs": [
    {
     "name": "stdout",
     "output_type": "stream",
     "text": [
      "2 is  偶数\n",
      "2 is  偶数\n",
      "10 is  偶数\n",
      "10 is  偶数\n",
      "7 is  奇数\n",
      "3 is  奇数\n",
      "9 is  奇数\n"
     ]
    }
   ],
   "source": [
    "for number in list_numbers:\n",
    "    if(number % 2 == 0):\n",
    "        print('{} is  偶数'.format(number))\n",
    "    else:\n",
    "        print('{} is  奇数'.format(number))"
   ]
  },
  {
   "cell_type": "markdown",
   "metadata": {},
   "source": [
    "#### continue 跳过"
   ]
  },
  {
   "cell_type": "code",
   "execution_count": 50,
   "metadata": {
    "ExecuteTime": {
     "end_time": "2020-01-13T03:52:40.710207Z",
     "start_time": "2020-01-13T03:52:40.706218Z"
    }
   },
   "outputs": [
    {
     "name": "stdout",
     "output_type": "stream",
     "text": [
      "2 is  偶数\n",
      "没有跳过\n",
      "2 is  偶数\n",
      "没有跳过\n",
      "10 is  偶数\n",
      "没有跳过\n",
      "10 is  偶数\n",
      "没有跳过\n"
     ]
    }
   ],
   "source": [
    "# continue 跳过\n",
    "for number in list_numbers:\n",
    "    if(number % 2 == 0):\n",
    "        print('{} is  偶数'.format(number))\n",
    "    else:\n",
    "        continue\n",
    "    print('没有跳过')"
   ]
  },
  {
   "cell_type": "markdown",
   "metadata": {},
   "source": [
    "#### 列表推导式"
   ]
  },
  {
   "cell_type": "code",
   "execution_count": 54,
   "metadata": {
    "ExecuteTime": {
     "end_time": "2020-01-13T03:56:48.665052Z",
     "start_time": "2020-01-13T03:56:48.661021Z"
    }
   },
   "outputs": [
    {
     "data": {
      "text/plain": [
       "[20, 20, 100, 100, 70, 30, 90]"
      ]
     },
     "execution_count": 54,
     "metadata": {},
     "output_type": "execute_result"
    }
   ],
   "source": [
    "new_numbers = [number * 10 for number in list_numbers]\n",
    "new_numbers"
   ]
  },
  {
   "cell_type": "markdown",
   "metadata": {},
   "source": [
    "#### 字典推导式"
   ]
  },
  {
   "cell_type": "code",
   "execution_count": 55,
   "metadata": {
    "ExecuteTime": {
     "end_time": "2020-01-13T03:58:15.044106Z",
     "start_time": "2020-01-13T03:58:15.039112Z"
    }
   },
   "outputs": [
    {
     "data": {
      "text/plain": [
       "{2: 'A', 10: 'A', 7: 'A', 3: 'A', 9: 'A'}"
      ]
     },
     "execution_count": 55,
     "metadata": {},
     "output_type": "execute_result"
    }
   ],
   "source": [
    "dict_numbers = {number: 'A' for number in list_numbers}\n",
    "dict_numbers"
   ]
  },
  {
   "cell_type": "markdown",
   "metadata": {},
   "source": [
    "#### 生成器"
   ]
  },
  {
   "cell_type": "code",
   "execution_count": 57,
   "metadata": {
    "ExecuteTime": {
     "end_time": "2020-01-13T04:02:01.697543Z",
     "start_time": "2020-01-13T04:02:01.692557Z"
    }
   },
   "outputs": [
    {
     "data": {
      "text/plain": [
       "(20, 20, 100, 100, 70, 30, 90)"
      ]
     },
     "execution_count": 57,
     "metadata": {},
     "output_type": "execute_result"
    }
   ],
   "source": [
    "tuple_numbers = (number * 10 for number in list_numbers)\n",
    "tuple(tuple_numbers)"
   ]
  },
  {
   "cell_type": "markdown",
   "metadata": {},
   "source": [
    "## 函数"
   ]
  },
  {
   "cell_type": "markdown",
   "metadata": {},
   "source": [
    "#### 通过字典的value查找key值"
   ]
  },
  {
   "cell_type": "code",
   "execution_count": 67,
   "metadata": {
    "ExecuteTime": {
     "end_time": "2020-01-13T04:11:01.858637Z",
     "start_time": "2020-01-13T04:11:01.854648Z"
    }
   },
   "outputs": [],
   "source": [
    "varibal = {\n",
    "    'a': 100,\n",
    "    'b': 200,\n",
    "    'c': 300\n",
    "}"
   ]
  },
  {
   "cell_type": "code",
   "execution_count": 60,
   "metadata": {
    "ExecuteTime": {
     "end_time": "2020-01-13T04:06:16.915512Z",
     "start_time": "2020-01-13T04:06:16.911521Z"
    }
   },
   "outputs": [
    {
     "data": {
      "text/plain": [
       "100"
      ]
     },
     "execution_count": 60,
     "metadata": {},
     "output_type": "execute_result"
    }
   ],
   "source": [
    "varibal['a']"
   ]
  },
  {
   "cell_type": "code",
   "execution_count": 61,
   "metadata": {
    "ExecuteTime": {
     "end_time": "2020-01-13T04:07:11.553655Z",
     "start_time": "2020-01-13T04:07:11.548650Z"
    }
   },
   "outputs": [
    {
     "data": {
      "text/plain": [
       "['a']"
      ]
     },
     "execution_count": 61,
     "metadata": {},
     "output_type": "execute_result"
    }
   ],
   "source": [
    "[key for key, value in varibal.items() if value == 100]"
   ]
  },
  {
   "cell_type": "markdown",
   "metadata": {},
   "source": [
    "#### 函数-抽象概念"
   ]
  },
  {
   "cell_type": "code",
   "execution_count": 73,
   "metadata": {
    "ExecuteTime": {
     "end_time": "2020-01-13T04:12:45.412989Z",
     "start_time": "2020-01-13T04:12:45.397269Z"
    }
   },
   "outputs": [],
   "source": [
    "# 防止多处多次定义并使用该方法，直接进行函数定义\n",
    "def get_keys(dict_varible, value):\n",
    "    return [k for k, v in dict_varible.items() if v == value]"
   ]
  },
  {
   "cell_type": "code",
   "execution_count": 71,
   "metadata": {
    "ExecuteTime": {
     "end_time": "2020-01-13T04:12:01.770458Z",
     "start_time": "2020-01-13T04:12:01.766494Z"
    }
   },
   "outputs": [
    {
     "data": {
      "text/plain": [
       "['a']"
      ]
     },
     "execution_count": 71,
     "metadata": {},
     "output_type": "execute_result"
    }
   ],
   "source": [
    "get_keys(varibal, 100)"
   ]
  },
  {
   "cell_type": "markdown",
   "metadata": {},
   "source": [
    "- get_kyes 是函数名\n",
    "- （）中是参数：dict_varible是形参，调用函数的时候传递的值才是实参\n",
    "- return 是返回值"
   ]
  },
  {
   "cell_type": "markdown",
   "metadata": {},
   "source": [
    "    1、位置参数\n",
    "    2、关键字参数"
   ]
  },
  {
   "cell_type": "code",
   "execution_count": 74,
   "metadata": {
    "ExecuteTime": {
     "end_time": "2020-01-13T04:17:43.689011Z",
     "start_time": "2020-01-13T04:17:43.684024Z"
    }
   },
   "outputs": [
    {
     "data": {
      "text/plain": [
       "['a']"
      ]
     },
     "execution_count": 74,
     "metadata": {},
     "output_type": "execute_result"
    }
   ],
   "source": [
    "# 位置参数是不可以改变位置的\n",
    "get_keys({'a': 100}, 100)"
   ]
  },
  {
   "cell_type": "code",
   "execution_count": 78,
   "metadata": {
    "ExecuteTime": {
     "end_time": "2020-01-13T04:19:41.994933Z",
     "start_time": "2020-01-13T04:19:41.989953Z"
    }
   },
   "outputs": [
    {
     "name": "stdout",
     "output_type": "stream",
     "text": [
      "['a'] ['a']\n"
     ]
    }
   ],
   "source": [
    "# 关键字参数是可以改变参数位置的，下面两种是一样的效果\n",
    "a = get_keys(dict_varible={'a': 40}, value=40)\n",
    "b = get_keys(value=40, dict_varible={'a': 40})\n",
    "print(a, b)"
   ]
  },
  {
   "cell_type": "markdown",
   "metadata": {},
   "source": [
    "#### 参数传递问题\n",
    "\n",
    "- 1、函数通过参获取我们传入的参数值，函数中改变了参数的值，传递进去的值会改变吗？"
   ]
  },
  {
   "cell_type": "markdown",
   "metadata": {},
   "source": [
    "    实例1："
   ]
  },
  {
   "cell_type": "code",
   "execution_count": 80,
   "metadata": {
    "ExecuteTime": {
     "end_time": "2020-01-13T04:23:13.309614Z",
     "start_time": "2020-01-13T04:23:13.305627Z"
    }
   },
   "outputs": [],
   "source": [
    "def test(varible):\n",
    "    varibal = 100\n",
    "    return varibal"
   ]
  },
  {
   "cell_type": "code",
   "execution_count": 81,
   "metadata": {
    "ExecuteTime": {
     "end_time": "2020-01-13T04:23:15.002431Z",
     "start_time": "2020-01-13T04:23:14.986808Z"
    }
   },
   "outputs": [
    {
     "data": {
      "text/plain": [
       "100"
      ]
     },
     "execution_count": 81,
     "metadata": {},
     "output_type": "execute_result"
    }
   ],
   "source": [
    "var = 1\n",
    "test(var)"
   ]
  },
  {
   "cell_type": "code",
   "execution_count": 82,
   "metadata": {
    "ExecuteTime": {
     "end_time": "2020-01-13T04:23:25.272112Z",
     "start_time": "2020-01-13T04:23:25.268144Z"
    }
   },
   "outputs": [
    {
     "name": "stdout",
     "output_type": "stream",
     "text": [
      "1\n"
     ]
    }
   ],
   "source": [
    "print(var)"
   ]
  },
  {
   "cell_type": "markdown",
   "metadata": {},
   "source": [
    "    实例2："
   ]
  },
  {
   "cell_type": "code",
   "execution_count": 83,
   "metadata": {
    "ExecuteTime": {
     "end_time": "2020-01-13T04:24:53.245000Z",
     "start_time": "2020-01-13T04:24:53.242003Z"
    }
   },
   "outputs": [],
   "source": [
    "def test(varibal):\n",
    "    varibal.append(100)\n",
    "    return varibal"
   ]
  },
  {
   "cell_type": "code",
   "execution_count": 84,
   "metadata": {
    "ExecuteTime": {
     "end_time": "2020-01-13T04:25:05.512803Z",
     "start_time": "2020-01-13T04:25:05.508814Z"
    }
   },
   "outputs": [
    {
     "data": {
      "text/plain": [
       "[100]"
      ]
     },
     "execution_count": 84,
     "metadata": {},
     "output_type": "execute_result"
    }
   ],
   "source": [
    "var = []\n",
    "test(var)"
   ]
  },
  {
   "cell_type": "code",
   "execution_count": 85,
   "metadata": {
    "ExecuteTime": {
     "end_time": "2020-01-13T04:25:17.923643Z",
     "start_time": "2020-01-13T04:25:17.918656Z"
    }
   },
   "outputs": [
    {
     "data": {
      "text/plain": [
       "[100]"
      ]
     },
     "execution_count": 85,
     "metadata": {},
     "output_type": "execute_result"
    }
   ],
   "source": [
    "var"
   ]
  },
  {
   "cell_type": "markdown",
   "metadata": {},
   "source": [
    "#### 参数的收集\n",
    "\n",
    "    在不知道输出什么的时候进行使用"
   ]
  },
  {
   "cell_type": "code",
   "execution_count": 86,
   "metadata": {
    "ExecuteTime": {
     "end_time": "2020-01-13T04:29:24.915023Z",
     "start_time": "2020-01-13T04:29:24.911031Z"
    }
   },
   "outputs": [],
   "source": [
    "def test(name, age, *args, **kwargs):\n",
    "    print(name, age, *args, **kwargs)"
   ]
  },
  {
   "cell_type": "code",
   "execution_count": 87,
   "metadata": {
    "ExecuteTime": {
     "end_time": "2020-01-13T04:29:40.240602Z",
     "start_time": "2020-01-13T04:29:40.237599Z"
    }
   },
   "outputs": [
    {
     "name": "stdout",
     "output_type": "stream",
     "text": [
      "zxb 23\n"
     ]
    }
   ],
   "source": [
    "test('zxb', 23)"
   ]
  },
  {
   "cell_type": "code",
   "execution_count": 88,
   "metadata": {
    "ExecuteTime": {
     "end_time": "2020-01-13T04:30:09.959378Z",
     "start_time": "2020-01-13T04:30:09.943745Z"
    }
   },
   "outputs": [
    {
     "name": "stdout",
     "output_type": "stream",
     "text": [
      "zxb 23 lkl [23, 24]\n"
     ]
    }
   ],
   "source": [
    "test('zxb', 23, 'lkl', [23, 24])"
   ]
  },
  {
   "cell_type": "code",
   "execution_count": 89,
   "metadata": {
    "ExecuteTime": {
     "end_time": "2020-01-13T04:32:22.411042Z",
     "start_time": "2020-01-13T04:32:22.394281Z"
    }
   },
   "outputs": [
    {
     "name": "stdout",
     "output_type": "stream",
     "text": [
      "zxb 23 {'weight': 100, 'height': 175}\n"
     ]
    }
   ],
   "source": [
    "dict_varible = {\n",
    "    'weight': 100,\n",
    "    'height': 175\n",
    "}\n",
    "test('zxb', 23, dict_varible)"
   ]
  },
  {
   "cell_type": "markdown",
   "metadata": {},
   "source": [
    "#### 装饰器\n",
    "\n",
    "- 1、可以将函数赋值给一个变量\n",
    "- 2、函数可以当做函数的返回值进行返回"
   ]
  },
  {
   "cell_type": "code",
   "execution_count": 90,
   "metadata": {
    "ExecuteTime": {
     "end_time": "2020-01-13T04:34:11.726378Z",
     "start_time": "2020-01-13T04:34:11.722377Z"
    }
   },
   "outputs": [],
   "source": [
    "a = 10\n",
    "b = [1, 2]\n",
    "\n",
    "\n",
    "def test():\n",
    "    print('test')\n",
    "\n",
    "\n",
    "c = test"
   ]
  },
  {
   "cell_type": "code",
   "execution_count": 91,
   "metadata": {
    "ExecuteTime": {
     "end_time": "2020-01-13T04:34:16.861571Z",
     "start_time": "2020-01-13T04:34:16.830287Z"
    }
   },
   "outputs": [
    {
     "data": {
      "text/plain": [
       "<function __main__.test()>"
      ]
     },
     "execution_count": 91,
     "metadata": {},
     "output_type": "execute_result"
    }
   ],
   "source": [
    "c"
   ]
  },
  {
   "cell_type": "code",
   "execution_count": 93,
   "metadata": {
    "ExecuteTime": {
     "end_time": "2020-01-13T04:34:32.312520Z",
     "start_time": "2020-01-13T04:34:32.306568Z"
    }
   },
   "outputs": [
    {
     "data": {
      "text/plain": [
       "'test'"
      ]
     },
     "execution_count": 93,
     "metadata": {},
     "output_type": "execute_result"
    }
   ],
   "source": [
    "c.__name__"
   ]
  },
  {
   "cell_type": "code",
   "execution_count": 114,
   "metadata": {
    "ExecuteTime": {
     "end_time": "2020-01-13T04:45:46.059551Z",
     "start_time": "2020-01-13T04:45:46.055432Z"
    }
   },
   "outputs": [],
   "source": [
    "# 返回一个从0-1的浮点数\n",
    "@decorator\n",
    "def test():\n",
    "    return random.random()\n",
    "\n",
    "# f=decorator(test) 完全等价于上面的写法"
   ]
  },
  {
   "cell_type": "code",
   "execution_count": 115,
   "metadata": {
    "ExecuteTime": {
     "end_time": "2020-01-13T04:45:46.972975Z",
     "start_time": "2020-01-13T04:45:46.968928Z"
    }
   },
   "outputs": [],
   "source": [
    "def decorator(func):\n",
    "    def wrapper(*args, **kwargs):\n",
    "        return round(func(*args, **kwargs), 3)\n",
    "    return wrapper"
   ]
  },
  {
   "cell_type": "code",
   "execution_count": 116,
   "metadata": {
    "ExecuteTime": {
     "end_time": "2020-01-13T04:45:48.610858Z",
     "start_time": "2020-01-13T04:45:48.606860Z"
    }
   },
   "outputs": [
    {
     "data": {
      "text/plain": [
       "0.89"
      ]
     },
     "execution_count": 116,
     "metadata": {},
     "output_type": "execute_result"
    }
   ],
   "source": [
    "test()"
   ]
  },
  {
   "cell_type": "markdown",
   "metadata": {},
   "source": [
    "## 类"
   ]
  },
  {
   "cell_type": "markdown",
   "metadata": {},
   "source": [
    "#### 构造方法和getter setter\n",
    "\n",
    "- 1、初始化函数中，self后面的是实例化对象的属性，加下划线的意思是，代表这个属性是私有的，不应该访问"
   ]
  },
  {
   "cell_type": "code",
   "execution_count": 145,
   "metadata": {
    "ExecuteTime": {
     "end_time": "2020-01-13T04:59:16.179687Z",
     "start_time": "2020-01-13T04:59:16.173704Z"
    }
   },
   "outputs": [],
   "source": [
    "# 定义一个Person类\n",
    "class Person:\n",
    "    def __init__(self, name, age):\n",
    "        self._name = name\n",
    "        self._age = age\n",
    "    # 获取name\n",
    "    def get_name(self):\n",
    "        return self._name\n",
    "    # 获取age\n",
    "    def get_age(self):\n",
    "        return self._age\n",
    "    # 重新命名\n",
    "    def set_rename(self,rename):\n",
    "        self._name=rename"
   ]
  },
  {
   "cell_type": "code",
   "execution_count": 119,
   "metadata": {
    "ExecuteTime": {
     "end_time": "2020-01-13T04:50:49.817512Z",
     "start_time": "2020-01-13T04:50:49.812523Z"
    }
   },
   "outputs": [
    {
     "data": {
      "text/plain": [
       "'hello world '"
      ]
     },
     "execution_count": 119,
     "metadata": {},
     "output_type": "execute_result"
    }
   ],
   "source": [
    "s = 'hello world'\n",
    "s.center(12)"
   ]
  },
  {
   "cell_type": "code",
   "execution_count": 140,
   "metadata": {
    "ExecuteTime": {
     "end_time": "2020-01-13T04:58:07.248566Z",
     "start_time": "2020-01-13T04:58:07.245633Z"
    }
   },
   "outputs": [],
   "source": [
    "p=Person('zxb',20)"
   ]
  },
  {
   "cell_type": "code",
   "execution_count": 135,
   "metadata": {
    "ExecuteTime": {
     "end_time": "2020-01-13T04:54:41.220194Z",
     "start_time": "2020-01-13T04:54:41.215192Z"
    }
   },
   "outputs": [
    {
     "data": {
      "text/plain": [
       "('zxb', 20)"
      ]
     },
     "execution_count": 135,
     "metadata": {},
     "output_type": "execute_result"
    }
   ],
   "source": [
    "p.get_name(),p.get_age()"
   ]
  },
  {
   "cell_type": "code",
   "execution_count": 141,
   "metadata": {
    "ExecuteTime": {
     "end_time": "2020-01-13T04:58:09.350175Z",
     "start_time": "2020-01-13T04:58:09.346185Z"
    }
   },
   "outputs": [],
   "source": [
    "p.set_rename('王力宏')"
   ]
  },
  {
   "cell_type": "code",
   "execution_count": 143,
   "metadata": {
    "ExecuteTime": {
     "end_time": "2020-01-13T04:58:26.476809Z",
     "start_time": "2020-01-13T04:58:26.472812Z"
    }
   },
   "outputs": [
    {
     "data": {
      "text/plain": [
       "'王力宏'"
      ]
     },
     "execution_count": 143,
     "metadata": {},
     "output_type": "execute_result"
    }
   ],
   "source": [
    "p.get_name()"
   ]
  },
  {
   "cell_type": "markdown",
   "metadata": {},
   "source": [
    "#### 继承"
   ]
  },
  {
   "cell_type": "code",
   "execution_count": 159,
   "metadata": {
    "ExecuteTime": {
     "end_time": "2020-01-13T05:11:14.128582Z",
     "start_time": "2020-01-13T05:11:14.124629Z"
    }
   },
   "outputs": [],
   "source": [
    "# 定义一个Student类,pass什么都不做，只是占一个位置\n",
    "class Student(Person): \n",
    "    def set_score(self,score):\n",
    "        self._score=score\n",
    "    def get_score(self):\n",
    "        return self._score"
   ]
  },
  {
   "cell_type": "code",
   "execution_count": 160,
   "metadata": {
    "ExecuteTime": {
     "end_time": "2020-01-13T05:11:15.327260Z",
     "start_time": "2020-01-13T05:11:15.323273Z"
    }
   },
   "outputs": [],
   "source": [
    "s=Student('liu',24)"
   ]
  },
  {
   "cell_type": "code",
   "execution_count": 149,
   "metadata": {
    "ExecuteTime": {
     "end_time": "2020-01-13T05:01:58.241573Z",
     "start_time": "2020-01-13T05:01:58.225101Z"
    }
   },
   "outputs": [
    {
     "data": {
      "text/plain": [
       "'liu'"
      ]
     },
     "execution_count": 149,
     "metadata": {},
     "output_type": "execute_result"
    }
   ],
   "source": [
    "s.get_name()"
   ]
  },
  {
   "cell_type": "code",
   "execution_count": 161,
   "metadata": {
    "ExecuteTime": {
     "end_time": "2020-01-13T05:11:17.052577Z",
     "start_time": "2020-01-13T05:11:17.049562Z"
    }
   },
   "outputs": [],
   "source": [
    "s.set_score(100)"
   ]
  },
  {
   "cell_type": "code",
   "execution_count": 162,
   "metadata": {
    "ExecuteTime": {
     "end_time": "2020-01-13T05:11:18.927939Z",
     "start_time": "2020-01-13T05:11:18.922953Z"
    }
   },
   "outputs": [
    {
     "data": {
      "text/plain": [
       "100"
      ]
     },
     "execution_count": 162,
     "metadata": {},
     "output_type": "execute_result"
    }
   ],
   "source": [
    "s.get_score()"
   ]
  },
  {
   "cell_type": "markdown",
   "metadata": {},
   "source": [
    "#### @property注解简化值的获取"
   ]
  },
  {
   "cell_type": "code",
   "execution_count": 176,
   "metadata": {
    "ExecuteTime": {
     "end_time": "2020-01-13T05:18:17.487327Z",
     "start_time": "2020-01-13T05:18:17.483316Z"
    }
   },
   "outputs": [],
   "source": [
    "class Person:\n",
    "    def __init__(self, name, age):\n",
    "        self._name = name\n",
    "        self._age = age\n",
    "    # 获取name \n",
    "    @property\n",
    "    def name(self):\n",
    "        return self._name \n",
    "    # 重新命名\n",
    "    def set_rename(self,rename):\n",
    "        self._name=rename"
   ]
  },
  {
   "cell_type": "code",
   "execution_count": 177,
   "metadata": {
    "ExecuteTime": {
     "end_time": "2020-01-13T05:18:18.110736Z",
     "start_time": "2020-01-13T05:18:18.095153Z"
    }
   },
   "outputs": [],
   "source": [
    "p=Person('liu',23)"
   ]
  },
  {
   "cell_type": "code",
   "execution_count": 178,
   "metadata": {
    "ExecuteTime": {
     "end_time": "2020-01-13T05:18:18.844571Z",
     "start_time": "2020-01-13T05:18:18.839585Z"
    }
   },
   "outputs": [
    {
     "data": {
      "text/plain": [
       "'liu'"
      ]
     },
     "execution_count": 178,
     "metadata": {},
     "output_type": "execute_result"
    }
   ],
   "source": [
    "# 不加property注解的时候加括号才能访问\n",
    "# p.name()\n",
    "\n",
    "#加了@property之后直接访问即可获取\n",
    "p.name"
   ]
  },
  {
   "cell_type": "markdown",
   "metadata": {},
   "source": [
    "## python 操作数据库"
   ]
  },
  {
   "cell_type": "markdown",
   "metadata": {},
   "source": [
    "#### 查询操作"
   ]
  },
  {
   "cell_type": "code",
   "execution_count": 6,
   "metadata": {
    "ExecuteTime": {
     "end_time": "2020-01-16T05:29:02.645573Z",
     "start_time": "2020-01-16T05:29:02.637549Z"
    }
   },
   "outputs": [
    {
     "name": "stdout",
     "output_type": "stream",
     "text": [
      "('admin', '123456', '管理员', None)\n",
      "('admin1', '1234566', '1', None)\n"
     ]
    }
   ],
   "source": [
    "# 查询操作\n",
    "import pymysql\n",
    "# DATABASE = {\n",
    "#     'host':'127.0.0.1',\n",
    "#     'database':'test',\n",
    "#     'user':'root',\n",
    "#     'password':'dongci777'\n",
    "# }\n",
    "db = pymysql.connect(host='localhost', user='root',\n",
    "                     password='dongci777', db='test',charset='utf8')\n",
    "cursor=db.cursor()\n",
    "sql=\"SELECT * FROM users\"\n",
    "cursor.execute(sql)\n",
    "results=cursor.fetchall()\n",
    "for row in results:\n",
    "    print(row)\n",
    "\n",
    "# 等价于\n",
    "# db=pymysql.connect(**DATABASE)\n",
    "# 等价于\n",
    "# db=pymysql.connect('localhost','root','dongci777', 'test')"
   ]
  },
  {
   "cell_type": "markdown",
   "metadata": {},
   "source": [
    "#### 插入操作"
   ]
  },
  {
   "cell_type": "code",
   "execution_count": 15,
   "metadata": {
    "ExecuteTime": {
     "end_time": "2020-01-16T05:39:25.651396Z",
     "start_time": "2020-01-16T05:39:25.509355Z"
    }
   },
   "outputs": [],
   "source": [
    "sql=\"INSERT INTO users values('admin2','hello','学生',null);\"\n",
    "cursor=db.cursor()\n",
    "cursor.execute(sql)\n",
    "db.commit()"
   ]
  },
  {
   "cell_type": "markdown",
   "metadata": {},
   "source": [
    "#### 更新操作"
   ]
  },
  {
   "cell_type": "code",
   "execution_count": 13,
   "metadata": {
    "ExecuteTime": {
     "end_time": "2020-01-16T05:37:46.990891Z",
     "start_time": "2020-01-16T05:37:46.532594Z"
    }
   },
   "outputs": [],
   "source": [
    "sql=\"UPDATE users SET `role`='教师' WHERE `username`='admin2';\"\n",
    "cursor=db.cursor()\n",
    "cursor.execute(sql)\n",
    "db.commit()"
   ]
  },
  {
   "cell_type": "markdown",
   "metadata": {},
   "source": [
    "#### 删除操作"
   ]
  },
  {
   "cell_type": "code",
   "execution_count": 14,
   "metadata": {
    "ExecuteTime": {
     "end_time": "2020-01-16T05:39:07.768715Z",
     "start_time": "2020-01-16T05:39:07.293450Z"
    }
   },
   "outputs": [],
   "source": [
    "sql=\"DELETE FROM users WHERE `username`='admin2';\"\n",
    "cursor=db.cursor()\n",
    "cursor.execute(sql)\n",
    "db.commit()"
   ]
  },
  {
   "cell_type": "markdown",
   "metadata": {},
   "source": [
    "#### 捕捉异常"
   ]
  },
  {
   "cell_type": "code",
   "execution_count": null,
   "metadata": {},
   "outputs": [],
   "source": [
    "try:\n",
    "    do something\n",
    "except Exception as e:\n",
    "    print(e)"
   ]
  },
  {
   "cell_type": "code",
   "execution_count": 16,
   "metadata": {
    "ExecuteTime": {
     "end_time": "2020-01-16T05:42:37.178245Z",
     "start_time": "2020-01-16T05:42:37.174167Z"
    }
   },
   "outputs": [
    {
     "name": "stdout",
     "output_type": "stream",
     "text": [
      "unsupported operand type(s) for +: 'int' and 'str'\n"
     ]
    }
   ],
   "source": [
    "try:\n",
    "    a=10\n",
    "    b=a+\"hello\"\n",
    "except Exception as e:\n",
    "    print(e)"
   ]
  },
  {
   "cell_type": "code",
   "execution_count": 21,
   "metadata": {
    "ExecuteTime": {
     "end_time": "2020-01-16T05:47:01.595520Z",
     "start_time": "2020-01-16T05:47:01.589833Z"
    }
   },
   "outputs": [
    {
     "name": "stdout",
     "output_type": "stream",
     "text": [
      "(1062, \"Duplicate entry 'admin2' for key 'PRIMARY'\")\n"
     ]
    }
   ],
   "source": [
    "# 数据库回滚\n",
    "try:\n",
    "   sql_one = \"INSERT INTO users values('admin2','hello','学生',null);\"\n",
    "   cursor=db.cursor()\n",
    "   cursor.execute(sql)\n",
    "   db.commit()\n",
    "except Exception as e:\n",
    "    print(e)\n",
    "    db.rollback()"
   ]
  },
  {
   "cell_type": "markdown",
   "metadata": {},
   "source": [
    "## 爬虫"
   ]
  },
  {
   "cell_type": "code",
   "execution_count": null,
   "metadata": {},
   "outputs": [],
   "source": []
  },
  {
   "cell_type": "code",
   "execution_count": null,
   "metadata": {},
   "outputs": [],
   "source": []
  },
  {
   "cell_type": "code",
   "execution_count": null,
   "metadata": {},
   "outputs": [],
   "source": []
  },
  {
   "cell_type": "code",
   "execution_count": null,
   "metadata": {},
   "outputs": [],
   "source": []
  },
  {
   "cell_type": "markdown",
   "metadata": {},
   "source": [
    "## IO操作"
   ]
  },
  {
   "cell_type": "markdown",
   "metadata": {},
   "source": [
    "#### 接收用户输入"
   ]
  },
  {
   "cell_type": "code",
   "execution_count": 3,
   "metadata": {
    "ExecuteTime": {
     "end_time": "2020-01-18T06:20:39.152142Z",
     "start_time": "2020-01-18T06:20:36.966651Z"
    }
   },
   "outputs": [
    {
     "name": "stdout",
     "output_type": "stream",
     "text": [
      "请输入：123\n",
      "你输入的内容是：123\n"
     ]
    }
   ],
   "source": [
    "# input\n",
    "str = input(\"请输入：\")\n",
    "print(\"你输入的内容是：{}\".format(str))"
   ]
  },
  {
   "cell_type": "markdown",
   "metadata": {},
   "source": [
    "## 文件读写操作"
   ]
  },
  {
   "cell_type": "markdown",
   "metadata": {},
   "source": [
    "#### 写入文件"
   ]
  },
  {
   "cell_type": "code",
   "execution_count": 17,
   "metadata": {
    "ExecuteTime": {
     "end_time": "2020-01-18T06:31:58.694538Z",
     "start_time": "2020-01-18T06:31:58.689593Z"
    }
   },
   "outputs": [],
   "source": [
    "fo=open(\"file.txt\",\"w\")\n",
    "fo.write(\"测试内容\")\n",
    "fo.close()"
   ]
  },
  {
   "cell_type": "markdown",
   "metadata": {},
   "source": [
    "#### 读文件"
   ]
  },
  {
   "cell_type": "code",
   "execution_count": 22,
   "metadata": {
    "ExecuteTime": {
     "end_time": "2020-01-18T06:32:59.369649Z",
     "start_time": "2020-01-18T06:32:59.365660Z"
    }
   },
   "outputs": [],
   "source": [
    "fo=open(\"file.txt\",\"r\")\n",
    "fo.read()\n",
    "fo.close()"
   ]
  },
  {
   "cell_type": "markdown",
   "metadata": {},
   "source": [
    "#### 文件定位"
   ]
  },
  {
   "cell_type": "code",
   "execution_count": 24,
   "metadata": {
    "ExecuteTime": {
     "end_time": "2020-01-18T06:35:55.474387Z",
     "start_time": "2020-01-18T06:35:55.469401Z"
    }
   },
   "outputs": [
    {
     "name": "stdout",
     "output_type": "stream",
     "text": [
      "position 8\n"
     ]
    }
   ],
   "source": [
    "fo=open(\"file.txt\",\"r\")\n",
    "fo.read()\n",
    "\n",
    "# 查找位置\n",
    "position=fo.tell()\n",
    "print(\"position\",position)\n",
    "\n",
    "# "
   ]
  },
  {
   "cell_type": "code",
   "execution_count": null,
   "metadata": {},
   "outputs": [],
   "source": []
  },
  {
   "cell_type": "code",
   "execution_count": null,
   "metadata": {},
   "outputs": [],
   "source": []
  },
  {
   "cell_type": "code",
   "execution_count": null,
   "metadata": {},
   "outputs": [],
   "source": []
  },
  {
   "cell_type": "code",
   "execution_count": null,
   "metadata": {},
   "outputs": [],
   "source": []
  },
  {
   "cell_type": "code",
   "execution_count": null,
   "metadata": {},
   "outputs": [],
   "source": []
  },
  {
   "cell_type": "code",
   "execution_count": null,
   "metadata": {},
   "outputs": [],
   "source": []
  },
  {
   "cell_type": "code",
   "execution_count": null,
   "metadata": {},
   "outputs": [],
   "source": []
  },
  {
   "cell_type": "code",
   "execution_count": null,
   "metadata": {},
   "outputs": [],
   "source": []
  },
  {
   "cell_type": "code",
   "execution_count": null,
   "metadata": {},
   "outputs": [],
   "source": []
  },
  {
   "cell_type": "code",
   "execution_count": null,
   "metadata": {},
   "outputs": [],
   "source": []
  },
  {
   "cell_type": "code",
   "execution_count": null,
   "metadata": {},
   "outputs": [],
   "source": []
  },
  {
   "cell_type": "code",
   "execution_count": null,
   "metadata": {},
   "outputs": [],
   "source": []
  },
  {
   "cell_type": "code",
   "execution_count": null,
   "metadata": {},
   "outputs": [],
   "source": []
  },
  {
   "cell_type": "code",
   "execution_count": null,
   "metadata": {},
   "outputs": [],
   "source": []
  },
  {
   "cell_type": "code",
   "execution_count": null,
   "metadata": {},
   "outputs": [],
   "source": []
  },
  {
   "cell_type": "code",
   "execution_count": null,
   "metadata": {},
   "outputs": [],
   "source": []
  },
  {
   "cell_type": "code",
   "execution_count": null,
   "metadata": {},
   "outputs": [],
   "source": []
  },
  {
   "cell_type": "code",
   "execution_count": null,
   "metadata": {},
   "outputs": [],
   "source": []
  },
  {
   "cell_type": "code",
   "execution_count": null,
   "metadata": {},
   "outputs": [],
   "source": []
  },
  {
   "cell_type": "code",
   "execution_count": null,
   "metadata": {},
   "outputs": [],
   "source": []
  },
  {
   "cell_type": "code",
   "execution_count": null,
   "metadata": {},
   "outputs": [],
   "source": []
  },
  {
   "cell_type": "code",
   "execution_count": null,
   "metadata": {},
   "outputs": [],
   "source": []
  },
  {
   "cell_type": "code",
   "execution_count": null,
   "metadata": {},
   "outputs": [],
   "source": []
  },
  {
   "cell_type": "code",
   "execution_count": null,
   "metadata": {},
   "outputs": [],
   "source": []
  },
  {
   "cell_type": "code",
   "execution_count": null,
   "metadata": {},
   "outputs": [],
   "source": []
  },
  {
   "cell_type": "code",
   "execution_count": null,
   "metadata": {},
   "outputs": [],
   "source": []
  },
  {
   "cell_type": "code",
   "execution_count": null,
   "metadata": {},
   "outputs": [],
   "source": []
  },
  {
   "cell_type": "code",
   "execution_count": null,
   "metadata": {},
   "outputs": [],
   "source": []
  }
 ],
 "metadata": {
  "kernelspec": {
   "display_name": "Python 3",
   "language": "python",
   "name": "python3"
  },
  "language_info": {
   "codemirror_mode": {
    "name": "ipython",
    "version": 3
   },
   "file_extension": ".py",
   "mimetype": "text/x-python",
   "name": "python",
   "nbconvert_exporter": "python",
   "pygments_lexer": "ipython3",
   "version": "3.7.4"
  },
  "toc": {
   "base_numbering": 1,
   "nav_menu": {},
   "number_sections": true,
   "sideBar": true,
   "skip_h1_title": false,
   "title_cell": "Table of Contents",
   "title_sidebar": "Contents",
   "toc_cell": false,
   "toc_position": {
    "height": "calc(100% - 180px)",
    "left": "10px",
    "top": "150px",
    "width": "470px"
   },
   "toc_section_display": true,
   "toc_window_display": true
  },
  "varInspector": {
   "cols": {
    "lenName": 16,
    "lenType": 16,
    "lenVar": 40
   },
   "kernels_config": {
    "python": {
     "delete_cmd_postfix": "",
     "delete_cmd_prefix": "del ",
     "library": "var_list.py",
     "varRefreshCmd": "print(var_dic_list())"
    },
    "r": {
     "delete_cmd_postfix": ") ",
     "delete_cmd_prefix": "rm(",
     "library": "var_list.r",
     "varRefreshCmd": "cat(var_dic_list()) "
    }
   },
   "position": {
    "height": "644.5px",
    "left": "1550px",
    "right": "20px",
    "top": "120px",
    "width": "350px"
   },
   "types_to_exclude": [
    "module",
    "function",
    "builtin_function_or_method",
    "instance",
    "_Feature"
   ],
   "window_display": true
  }
 },
 "nbformat": 4,
 "nbformat_minor": 4
}
